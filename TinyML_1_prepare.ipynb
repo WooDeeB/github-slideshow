{
  "cells": [
    {
      "cell_type": "markdown",
      "metadata": {
        "id": "view-in-github",
        "colab_type": "text"
      },
      "source": [
        "<a href=\"https://colab.research.google.com/github/WooDeeB/github-slideshow/blob/master/TinyML_1_prepare.ipynb\" target=\"_parent\"><img src=\"https://colab.research.google.com/assets/colab-badge.svg\" alt=\"Open In Colab\"/></a>"
      ]
    },
    {
      "cell_type": "code",
      "execution_count": null,
      "metadata": {
        "id": "rDqLDp24e4lY"
      },
      "outputs": [],
      "source": [
        "# Setup environment\n",
        "!pip install tensorflow tensorflow_datasets pydub numpy"
      ]
    },
    {
      "cell_type": "code",
      "source": [
        "import tensorflow as tf\n",
        "import tensorflow_datasets as tfds\n",
        "import os\n",
        "import pathlib\n",
        "import numpy as np\n",
        "from google.colab import drive\n",
        "\n",
        "# Mount Google Drive\n",
        "drive.mount('/content/drive')"
      ],
      "metadata": {
        "id": "g6CD1RAJ9kkC"
      },
      "execution_count": null,
      "outputs": []
    },
    {
      "cell_type": "code",
      "source": [
        "# Define the path to save the dataset\n",
        "dataset_dir = '/content/drive/My Drive/speech_commands_dataset'\n",
        "os.makedirs(dataset_dir, exist_ok=True)\n",
        "\n",
        "# Download and prepare the Google Speech Commands Dataset v1\n",
        "def download_and_prepare_dataset(save_dir):\n",
        "    dataset, info = tfds.load('speech_commands', data_dir=save_dir, with_info=True, as_supervised=True, download=True)\n",
        "    print(\"Original dataset sizes:\")\n",
        "    print(f\"Train: {info.splits['train'].num_examples}\")\n",
        "    print(f\"Validation: {info.splits['validation'].num_examples}\")\n",
        "    print(f\"Test: {info.splits['test'].num_examples}\")\n",
        "    return dataset, info\n",
        "\n",
        "# Save the dataset to Google Drive\n",
        "dataset, info = download_and_prepare_dataset(dataset_dir)"
      ],
      "metadata": {
        "id": "PhQ3adsyNELO"
      },
      "execution_count": null,
      "outputs": []
    },
    {
      "cell_type": "code",
      "source": [
        "# Check for the unique labels present within the first 1000 examples of the dataset\n",
        "def check_unique_labels(dataset):\n",
        "    labels = set()\n",
        "    for _, label in dataset.take(1000):  # Check first 1000 examples\n",
        "        labels.add(label.numpy())\n",
        "    print(\"Unique labels:\", labels)\n",
        "\n",
        "# Print the labels\n",
        "check_unique_labels(dataset['train'])\n",
        "print(\"Label names:\", info.features['label'].names)\n",
        "for i, name in enumerate(info.features['label'].names):\n",
        "    print(f\"{i}: {name}\")"
      ],
      "metadata": {
        "id": "UhXYfLFk996w"
      },
      "execution_count": null,
      "outputs": []
    },
    {
      "cell_type": "code",
      "source": [
        "def prepare_datasets(dataset, info):\n",
        "    \"\"\"\n",
        "    Prepare the datasets for training or evaluation by filtering them to include only specific commands\n",
        "    and then applying preprocessing.\n",
        "    \"\"\"\n",
        "    commands = ['yes', 'no'] # A list of the commands we want to keep in the dataset\n",
        "    command_indices = tf.constant([info.features['label'].str2int(cmd) for cmd in commands], dtype=tf.int64) # Create a TensorFlow constant tensor holding these indices\n",
        "\n",
        "    def filter_commands(audio, label):\n",
        "        \"\"\"\n",
        "        Filterd the dataset, keeping only examples with labels matching the selected commands.\n",
        "        \"\"\"\n",
        "        is_match = tf.reduce_any(tf.equal(label, command_indices))\n",
        "        return tf.cast(is_match, tf.bool)  # Cast to a scalar boolean\n",
        "\n",
        "    def preprocess_and_convert_label(audio, label):\n",
        "        # First, apply the preprocessing\n",
        "        audio = tf.pad(audio, [[0, 16000 - tf.shape(audio)[0]]])\n",
        "        audio = audio[:16000]\n",
        "        audio = tf.cast(audio, tf.float32) / 32768.0\n",
        "\n",
        "        # Then, convert the label\n",
        "        label = tf.where(tf.equal(label, info.features['label'].str2int('yes')), 1, 0)\n",
        "\n",
        "        return audio, label\n",
        "\n",
        "    def count_examples(dataset):\n",
        "        return sum(1 for _ in dataset)\n",
        "\n",
        "    print(\"Dataset sizes before filtering:\")\n",
        "    print(f\"Train: {count_examples(dataset['train'])}\")\n",
        "    print(f\"Validation: {count_examples(dataset['validation'])}\")\n",
        "    print(f\"Test: {count_examples(dataset['test'])}\")\n",
        "\n",
        "    # Apply the filter to the dataset\n",
        "    train_dataset = dataset['train'].filter(filter_commands)\n",
        "    validation_dataset = dataset['validation'].filter(filter_commands)\n",
        "    test_dataset = dataset['test'].filter(filter_commands)\n",
        "\n",
        "    print(\"Dataset sizes after filtering:\")\n",
        "    print(f\"Train: {count_examples(train_dataset)}\")\n",
        "    print(f\"Validation: {count_examples(validation_dataset)}\")\n",
        "    print(f\"Test: {count_examples(test_dataset)}\")\n",
        "\n",
        "    # Apply the preprocessing to the dataset\n",
        "    train_dataset = train_dataset.map(preprocess_and_convert_label, num_parallel_calls=tf.data.AUTOTUNE)\n",
        "    validation_dataset = validation_dataset.map(preprocess_and_convert_label, num_parallel_calls=tf.data.AUTOTUNE)\n",
        "    test_dataset = test_dataset.map(preprocess_and_convert_label, num_parallel_calls=tf.data.AUTOTUNE)\n",
        "\n",
        "    # Optimise the performance of the datasets by batching, shuffling, caching, and prefetching data\n",
        "    BATCH_SIZE = 64\n",
        "    train_dataset = train_dataset.cache().shuffle(1000).batch(BATCH_SIZE).prefetch(tf.data.AUTOTUNE)\n",
        "    validation_dataset = validation_dataset.cache().batch(BATCH_SIZE).prefetch(tf.data.AUTOTUNE)\n",
        "    test_dataset = test_dataset.cache().batch(BATCH_SIZE).prefetch(tf.data.AUTOTUNE)\n",
        "\n",
        "    return train_dataset, validation_dataset, test_dataset\n",
        "\n",
        "# Prepare datasets\n",
        "train_dataset, validation_dataset, test_dataset = prepare_datasets(dataset, info)\n",
        "\n",
        "for audio, label in train_dataset.take(1):\n",
        "    print(f\"Audio shape: {audio.shape}\")\n",
        "    print(f\"Label shape: {label.shape}\")\n"
      ],
      "metadata": {
        "colab": {
          "base_uri": "https://localhost:8080/"
        },
        "id": "arxXdHp4N8Jx",
        "outputId": "2ee18df2-4787-4cfc-a23f-ac547948b242"
      },
      "execution_count": null,
      "outputs": [
        {
          "output_type": "stream",
          "name": "stdout",
          "text": [
            "Dataset sizes before filtering:\n",
            "Train: 85511\n",
            "Validation: 10102\n",
            "Test: 4890\n",
            "Dataset sizes after filtering:\n",
            "Train: 6358\n",
            "Validation: 803\n",
            "Test: 824\n",
            "Audio shape: (64, 16000)\n",
            "Label shape: (64,)\n"
          ]
        }
      ]
    },
    {
      "cell_type": "code",
      "source": [
        "def check_labels(dataset, name):\n",
        "    for audio, labels in dataset.take(1):\n",
        "        print(f\"\\nChecking {name} dataset:\")\n",
        "        print(\"Labels shape:\", labels.shape)\n",
        "        print(\"Unique labels:\", np.unique(labels))\n",
        "        print(\"First few labels:\", labels[:10])\n",
        "\n",
        "check_labels(train_dataset, \"train\")\n",
        "check_labels(validation_dataset, \"validation\")\n",
        "check_labels(test_dataset, \"test\")"
      ],
      "metadata": {
        "colab": {
          "base_uri": "https://localhost:8080/"
        },
        "id": "LGASqqHp4syF",
        "outputId": "c332ebca-0698-4b0d-89e0-b8ca4937711a"
      },
      "execution_count": null,
      "outputs": [
        {
          "output_type": "stream",
          "name": "stdout",
          "text": [
            "\n",
            "Checking train dataset:\n",
            "Labels shape: (64,)\n",
            "Unique labels: [0 1]\n",
            "First few labels: tf.Tensor([0 0 1 1 1 0 0 0 0 0], shape=(10,), dtype=int32)\n",
            "\n",
            "Checking validation dataset:\n",
            "Labels shape: (64,)\n",
            "Unique labels: [0 1]\n",
            "First few labels: tf.Tensor([0 0 1 0 1 1 1 1 0 0], shape=(10,), dtype=int32)\n",
            "\n",
            "Checking test dataset:\n",
            "Labels shape: (64,)\n",
            "Unique labels: [0 1]\n",
            "First few labels: tf.Tensor([1 0 1 1 1 1 0 0 0 0], shape=(10,), dtype=int32)\n"
          ]
        }
      ]
    },
    {
      "cell_type": "code",
      "source": [
        "\"\"\"\n",
        "def count_examples_per_class(dataset):\n",
        "  \"\"\"\n",
        "  #Counts the number of examples in each class to understand\n",
        "  #the balance of classes in the dataset.\n",
        "  \"\"\"\n",
        "  counts = {}\n",
        "  for _, label in dataset:\n",
        "    # Iterate over each element in the label array (since it's batched)\n",
        "    for l in label.numpy():\n",
        "      if l not in counts:\n",
        "        counts[l] = 0\n",
        "      counts[l] += 1\n",
        "  return counts\n",
        "\n",
        "train_counts = count_examples_per_class(train_dataset)\n",
        "validation_counts = count_examples_per_class(validation_dataset)\n",
        "test_counts = count_examples_per_class(test_dataset)\n",
        "\n",
        "print(\"Train set class distribution:\", train_counts)\n",
        "print(\"Validation set class distribution:\", validation_counts)\n",
        "print(\"Test set class distribution:\", test_counts)\n",
        "\"\"\""
      ],
      "metadata": {
        "id": "rrQm0qbmhvxY"
      },
      "execution_count": null,
      "outputs": []
    },
    {
      "cell_type": "code",
      "source": [
        "def prepare_background_noise(dataset, info):\n",
        "    \"\"\"\n",
        "    Extracts the background noise samples from the training dataset.\n",
        "    Args:\n",
        "        dataset: The TensorFlow Datasets object containing the audio dataset.\n",
        "        info: The metadata associated with the dataset.\n",
        "    Returns:\n",
        "        A TensorFlow Dataset containing only the background noise samples.\n",
        "    \"\"\"\n",
        "    background_noise_ds = dataset['train'].filter(lambda audio, label:\n",
        "        tf.equal(label, info.features['label'].str2int('_silence_')))\n",
        "    return background_noise_ds\n",
        "\n",
        "background_noise_ds = prepare_background_noise(dataset, info)"
      ],
      "metadata": {
        "id": "gj3AwuXrd1uk"
      },
      "execution_count": null,
      "outputs": []
    },
    {
      "cell_type": "code",
      "source": [
        "def compute_mfcc(audio):\n",
        "    \"\"\"\n",
        "    Transforms the raw audio waveform into a more compact and informative representation that\n",
        "    machine learning models can effectively use by computing\n",
        "    the Mel-Frequency Cepstral Coefficients (MFCCs) for a given audio signal.\n",
        "    \"\"\"\n",
        "    # Add a check for batched inputs\n",
        "    if audio.shape.ndims > 2:\n",
        "        return tf.map_fn(compute_mfcc, audio, dtype=tf.float32)\n",
        "\n",
        "    # Compute STFT\n",
        "    stft = tf.signal.stft(audio, frame_length=480, frame_step=320, fft_length=512)\n",
        "\n",
        "    # Compute magnitude spectrogram\n",
        "    spectrogram = tf.abs(stft)\n",
        "\n",
        "    # Compute mel spectrogram\n",
        "    num_mel_bins = 40\n",
        "    lower_edge_hertz, upper_edge_hertz = 20.0, 4000.0\n",
        "    mel_spectrogram = tf.signal.linear_to_mel_weight_matrix(\n",
        "        num_mel_bins, spectrogram.shape[-1], 16000, lower_edge_hertz, upper_edge_hertz)\n",
        "    mel_spectrogram = tf.tensordot(spectrogram, mel_spectrogram, 1)\n",
        "\n",
        "    # Compute log mel spectrogram\n",
        "    log_mel_spectrogram = tf.math.log(mel_spectrogram + 1e-6)\n",
        "\n",
        "    # Compute MFCCs\n",
        "    mfccs = tf.signal.mfccs_from_log_mel_spectrograms(log_mel_spectrogram)[..., :10]\n",
        "\n",
        "    # Add channel dimension\n",
        "    mfccs = tf.expand_dims(mfccs, -1)  # Adds a channel dimension to match the model's input\n",
        "\n",
        "    return mfccs\n",
        "\n",
        "# Apply MFCC computation to the datasets\n",
        "train_dataset = train_dataset.map(lambda audio, label: (compute_mfcc(audio), label))\n",
        "test_dataset = test_dataset.map(lambda audio, label: (compute_mfcc(audio), label))\n",
        "validation_dataset = validation_dataset.map(lambda audio, label: (compute_mfcc(audio), label))\n",
        "\n",
        "print(f\"MFCC implemented\")"
      ],
      "metadata": {
        "id": "RTchnAF6a_l0"
      },
      "execution_count": null,
      "outputs": []
    },
    {
      "cell_type": "code",
      "source": [
        "# Check if preprocess completed correctly\n",
        "print(\"A sample from the train_dataset:\")  # Inspect preprocessed dataset\n",
        "for mfcc, label in train_dataset.take(1):\n",
        "    print(f\"MFCC shape: {mfcc.shape}\")\n",
        "    print(f\"First few MFCC values: {mfcc[0, :5]}\")  # Print a few values for inspection\n",
        "    print(f\"Label: {label}\")\n",
        "\n",
        "# Check if datasets are empty\n",
        "if tf.data.experimental.cardinality(train_dataset) == 0:\n",
        "    print(\"Warning: Train dataset is empty!\")\n",
        "if tf.data.experimental.cardinality(validation_dataset) == 0:\n",
        "    print(\"Warning: Validation dataset is empty!\")\n",
        "if tf.data.experimental.cardinality(test_dataset) == 0:\n",
        "    print(\"Warning: Test dataset is empty!\")"
      ],
      "metadata": {
        "colab": {
          "base_uri": "https://localhost:8080/"
        },
        "id": "qkIvO6-0RQTb",
        "outputId": "5a8dc155-d847-4f76-9bbd-72ab7d6ebe61"
      },
      "execution_count": null,
      "outputs": [
        {
          "output_type": "stream",
          "name": "stdout",
          "text": [
            "A sample from the train_dataset:\n",
            "MFCC shape: (64, 49, 10, 1)\n",
            "First few MFCC values: [[[-5.4208282e+01]\n",
            "  [ 1.7546839e-01]\n",
            "  [ 1.6101482e+00]\n",
            "  [ 1.1182706e+00]\n",
            "  [ 1.5418102e+00]\n",
            "  [ 2.3157740e+00]\n",
            "  [ 1.0717250e+00]\n",
            "  [ 2.6007834e-01]\n",
            "  [ 4.1486796e-02]\n",
            "  [-3.5232210e-01]]\n",
            "\n",
            " [[-5.2646099e+01]\n",
            "  [ 1.5406882e+00]\n",
            "  [ 2.4479749e+00]\n",
            "  [ 4.1892138e-01]\n",
            "  [ 4.1651362e-01]\n",
            "  [ 6.9288719e-01]\n",
            "  [-5.9571207e-01]\n",
            "  [-6.4875390e-03]\n",
            "  [ 1.2881444e-01]\n",
            "  [ 3.9256120e-01]]\n",
            "\n",
            " [[-4.2382126e+01]\n",
            "  [ 7.1516175e+00]\n",
            "  [ 7.0677700e+00]\n",
            "  [ 2.1944642e+00]\n",
            "  [-1.4817840e-01]\n",
            "  [-4.4071665e-01]\n",
            "  [-1.3857468e+00]\n",
            "  [ 4.5653787e-01]\n",
            "  [-4.4664988e-01]\n",
            "  [ 4.2130044e-01]]\n",
            "\n",
            " [[-2.7108471e+01]\n",
            "  [ 1.1347745e+01]\n",
            "  [ 8.3227873e+00]\n",
            "  [ 4.1643000e-01]\n",
            "  [-2.3611355e+00]\n",
            "  [ 9.4551885e-01]\n",
            "  [-3.6317048e+00]\n",
            "  [ 1.3666394e+00]\n",
            "  [-1.9129068e+00]\n",
            "  [-7.2066605e-01]]\n",
            "\n",
            " [[-2.1494051e+01]\n",
            "  [ 1.0134540e+01]\n",
            "  [ 7.6199698e+00]\n",
            "  [ 4.1442629e-02]\n",
            "  [-3.0047786e+00]\n",
            "  [ 1.4245487e+00]\n",
            "  [-3.8787651e+00]\n",
            "  [ 2.1755250e+00]\n",
            "  [-2.8646426e+00]\n",
            "  [-1.5790504e+00]]]\n",
            "Label: [0 0 1 0 1 1 1 0 0 1 0 1 0 0 1 0 0 0 0 0 0 0 0 1 0 0 0 0 0 0 0 0 1 1 0 1 1\n",
            " 1 0 0 0 1 0 1 1 1 1 1 0 1 1 1 0 0 1 0 1 0 1 0 1 1 1 1]\n"
          ]
        }
      ]
    },
    {
      "cell_type": "code",
      "source": [
        "def save_dataset_to_tfrecord(dataset, filename):\n",
        "    \"\"\"\n",
        "    Save dataset as TFRecord\n",
        "    \"\"\"\n",
        "    def serialize_example(audio, label):\n",
        "        \"\"\"\n",
        "        Creates a tf.train.Example message ready to be written to a file.\n",
        "        \"\"\"\n",
        "        feature = {\n",
        "            'audio': tf.train.Feature(float_list=tf.train.FloatList(value=audio.numpy().flatten())),\n",
        "            'label': tf.train.Feature(int64_list=tf.train.Int64List(value=[label.numpy()])),\n",
        "        }\n",
        "        example_proto = tf.train.Example(features=tf.train.Features(feature=feature))\n",
        "        return example_proto.SerializeToString()\n",
        "\n",
        "    writer = tf.io.TFRecordWriter(filename)\n",
        "    count = 0\n",
        "    # iterate through the dataset, serialises each example, and write it to the TFRecord\n",
        "    for audio, label in dataset.unbatch():\n",
        "        example = serialize_example(audio, label)\n",
        "        writer.write(example)\n",
        "        count += 1\n",
        "        if count % 100 == 0:\n",
        "            print(f\"Processed {count} examples\")\n",
        "    writer.close()\n",
        "    print(f\"Dataset saved to {filename}. Processed {count} examples.\")\n",
        "\n",
        "# Save datasets to Google Drive\n",
        "save_dir = '/content/drive/MyDrive/TinyML_datasets'\n",
        "os.makedirs(save_dir, exist_ok=True)\n",
        "\n",
        "save_dataset_to_tfrecord(train_dataset, os.path.join(save_dir, 'train.tfrecord'))\n",
        "save_dataset_to_tfrecord(validation_dataset, os.path.join(save_dir, 'validation.tfrecord'))\n",
        "save_dataset_to_tfrecord(test_dataset, os.path.join(save_dir, 'test.tfrecord'))\n",
        "\n",
        "print(\"All datasets have been saved to Google Drive.\")"
      ],
      "metadata": {
        "id": "EK7bqnQDRimU",
        "colab": {
          "base_uri": "https://localhost:8080/"
        },
        "outputId": "da30511e-a6b7-4728-b83e-937e668ee73f"
      },
      "execution_count": null,
      "outputs": [
        {
          "output_type": "stream",
          "name": "stdout",
          "text": [
            "Processed 100 examples\n",
            "Processed 200 examples\n",
            "Processed 300 examples\n",
            "Processed 400 examples\n",
            "Processed 500 examples\n",
            "Processed 600 examples\n",
            "Processed 700 examples\n",
            "Processed 800 examples\n",
            "Processed 900 examples\n",
            "Processed 1000 examples\n",
            "Processed 1100 examples\n",
            "Processed 1200 examples\n",
            "Processed 1300 examples\n",
            "Processed 1400 examples\n",
            "Processed 1500 examples\n",
            "Processed 1600 examples\n",
            "Processed 1700 examples\n",
            "Processed 1800 examples\n",
            "Processed 1900 examples\n",
            "Processed 2000 examples\n",
            "Processed 2100 examples\n",
            "Processed 2200 examples\n",
            "Processed 2300 examples\n",
            "Processed 2400 examples\n",
            "Processed 2500 examples\n",
            "Processed 2600 examples\n",
            "Processed 2700 examples\n",
            "Processed 2800 examples\n",
            "Processed 2900 examples\n",
            "Processed 3000 examples\n",
            "Processed 3100 examples\n",
            "Processed 3200 examples\n",
            "Processed 3300 examples\n",
            "Processed 3400 examples\n",
            "Processed 3500 examples\n",
            "Processed 3600 examples\n",
            "Processed 3700 examples\n",
            "Processed 3800 examples\n",
            "Processed 3900 examples\n",
            "Processed 4000 examples\n",
            "Processed 4100 examples\n",
            "Processed 4200 examples\n",
            "Processed 4300 examples\n",
            "Processed 4400 examples\n",
            "Processed 4500 examples\n",
            "Processed 4600 examples\n",
            "Processed 4700 examples\n",
            "Processed 4800 examples\n",
            "Processed 4900 examples\n",
            "Processed 5000 examples\n",
            "Processed 5100 examples\n",
            "Processed 5200 examples\n",
            "Processed 5300 examples\n",
            "Processed 5400 examples\n",
            "Processed 5500 examples\n",
            "Processed 5600 examples\n",
            "Processed 5700 examples\n",
            "Processed 5800 examples\n",
            "Processed 5900 examples\n",
            "Processed 6000 examples\n",
            "Processed 6100 examples\n",
            "Processed 6200 examples\n",
            "Processed 6300 examples\n",
            "Dataset saved to /content/drive/MyDrive/TinyML_datasets/train.tfrecord. Processed 6358 examples.\n",
            "Processed 100 examples\n",
            "Processed 200 examples\n",
            "Processed 300 examples\n",
            "Processed 400 examples\n",
            "Processed 500 examples\n",
            "Processed 600 examples\n",
            "Processed 700 examples\n",
            "Processed 800 examples\n",
            "Dataset saved to /content/drive/MyDrive/TinyML_datasets/validation.tfrecord. Processed 803 examples.\n",
            "Processed 100 examples\n",
            "Processed 200 examples\n",
            "Processed 300 examples\n",
            "Processed 400 examples\n",
            "Processed 500 examples\n",
            "Processed 600 examples\n",
            "Processed 700 examples\n",
            "Processed 800 examples\n",
            "Dataset saved to /content/drive/MyDrive/TinyML_datasets/test.tfrecord. Processed 824 examples.\n",
            "All datasets have been saved to Google Drive.\n"
          ]
        }
      ]
    },
    {
      "cell_type": "code",
      "source": [
        "def inspect_dataset(dataset, name):\n",
        "    print(f\"\\nInspecting {name} dataset:\")\n",
        "    for mfccs, labels in dataset.take(1):\n",
        "        print(f\"MFCCs shape: {mfccs.shape}\")\n",
        "        print(f\"MFCCs dtype: {mfccs.dtype}\")\n",
        "        print(f\"Labels shape: {labels.shape}\")\n",
        "        print(f\"Labels dtype: {labels.dtype}\")\n",
        "        print(f\"MFCC min: {tf.reduce_min(mfccs)}, max: {tf.reduce_max(mfccs)}\")\n",
        "        print(f\"Unique labels: {np.unique(labels)}\")\n",
        "        print(f\"First few MFCCs:\")\n",
        "        print(mfccs[0, :5, :5, 0])  # Print first 5x5 of first example\n",
        "\n",
        "inspect_dataset(train_dataset, \"train\")\n",
        "inspect_dataset(validation_dataset, \"validation\")\n",
        "inspect_dataset(test_dataset, \"test\")"
      ],
      "metadata": {
        "colab": {
          "base_uri": "https://localhost:8080/"
        },
        "id": "gyhcL2HJ0yki",
        "outputId": "4cf105b6-42b0-4d0a-84d6-aee974af4afb"
      },
      "execution_count": null,
      "outputs": [
        {
          "output_type": "stream",
          "name": "stdout",
          "text": [
            "\n",
            "Inspecting train dataset:\n",
            "MFCCs shape: (64, 49, 10, 1)\n",
            "MFCCs dtype: <dtype: 'float32'>\n",
            "Labels shape: (64,)\n",
            "Labels dtype: <dtype: 'int32'>\n",
            "MFCC min: -123.5696792602539, max: 23.121084213256836\n",
            "Unique labels: [0 1]\n",
            "First few MFCCs:\n",
            "tf.Tensor(\n",
            "[[-27.061825     7.291687     4.763695    -0.8685917   -2.9558806 ]\n",
            " [-23.39283      7.4754643    4.568328    -0.6365501   -2.3920968 ]\n",
            " [-22.169197     6.456662     5.761456     0.6016108   -2.5454307 ]\n",
            " [-20.4356       5.9835033    6.1884413   -0.6666604   -2.4888406 ]\n",
            " [-18.324085     5.3151855    6.2817044   -0.02874794  -1.8598813 ]], shape=(5, 5), dtype=float32)\n",
            "\n",
            "Inspecting validation dataset:\n",
            "MFCCs shape: (64, 49, 10, 1)\n",
            "MFCCs dtype: <dtype: 'float32'>\n",
            "Labels shape: (64,)\n",
            "Labels dtype: <dtype: 'int32'>\n",
            "MFCC min: -123.5696792602539, max: 21.295398712158203\n",
            "Unique labels: [0 1]\n",
            "First few MFCCs:\n",
            "tf.Tensor(\n",
            "[[-44.17769      2.8679142    2.1754718    1.637261     1.4980072 ]\n",
            " [-43.675907     3.4454074    2.0096748    1.7502993   -0.07696451]\n",
            " [-44.078587     2.9955158    2.222373     0.69850564   0.20355795]\n",
            " [-44.539806     1.7218912    1.2390052    1.0767735    0.11550666]\n",
            " [-44.899452     1.9677601    1.3975244    1.5250744   -0.10588672]], shape=(5, 5), dtype=float32)\n",
            "\n",
            "Inspecting test dataset:\n",
            "MFCCs shape: (64, 49, 10, 1)\n",
            "MFCCs dtype: <dtype: 'float32'>\n",
            "Labels shape: (64,)\n",
            "Labels dtype: <dtype: 'int32'>\n",
            "MFCC min: -123.5696792602539, max: 23.21888542175293\n",
            "Unique labels: [0 1]\n",
            "First few MFCCs:\n",
            "tf.Tensor(\n",
            "[[-40.93779     -4.5159364   -3.5116546   -1.4518371   -1.7534122 ]\n",
            " [-39.581516    -3.7565706   -3.8491957   -2.2041333   -3.5993905 ]\n",
            " [-36.310547    -3.2573493   -3.5674036   -1.1762817   -1.8926691 ]\n",
            " [-34.88927     -0.7673038   -3.54367     -2.090593    -0.5425277 ]\n",
            " [-39.42367     -1.8567057   -0.70443803  -2.0456488    0.08336845]], shape=(5, 5), dtype=float32)\n"
          ]
        }
      ]
    },
    {
      "cell_type": "code",
      "source": [
        "def ensure_shape(mfccs, labels):\n",
        "    mfccs = tf.ensure_shape(mfccs, [None, 49, 10, 1])\n",
        "    labels = tf.ensure_shape(labels, [None])\n",
        "    return mfccs, labels\n",
        "\n",
        "train_dataset = train_dataset.map(ensure_shape)\n",
        "validation_dataset = validation_dataset.map(ensure_shape)\n",
        "test_dataset = test_dataset.map(ensure_shape)"
      ],
      "metadata": {
        "id": "KN03W6DF0z2C"
      },
      "execution_count": null,
      "outputs": []
    },
    {
      "cell_type": "code",
      "source": [
        "# Model architecture\n",
        "from tensorflow.keras import layers, models # Import the 'models' object\n",
        "def create_model(input_shape=(49, 10, 1), num_classes=2):\n",
        "    model = models.Sequential([\n",
        "        layers.Input(shape=input_shape),\n",
        "\n",
        "        layers.Conv2D(8, (3, 3), activation='relu', padding='same'),\n",
        "        layers.MaxPooling2D((2, 2)),\n",
        "\n",
        "        layers.Conv2D(16, (3, 3), activation='relu', padding='same'),\n",
        "        layers.MaxPooling2D((2, 2)),\n",
        "\n",
        "        layers.GlobalAveragePooling2D(),\n",
        "\n",
        "        layers.Dense(32, activation='relu'),\n",
        "        layers.Dense(num_classes)\n",
        "    ])\n",
        "\n",
        "    return model\n",
        "\n",
        "# Create and compile the model\n",
        "model = create_model()\n",
        "model.compile(optimizer='adam',\n",
        "              loss=tf.keras.losses.SparseCategoricalCrossentropy(from_logits=True),\n",
        "              metrics=['accuracy'])\n",
        "\n",
        "# Print model summary\n",
        "model.summary()"
      ],
      "metadata": {
        "colab": {
          "base_uri": "https://localhost:8080/",
          "height": 391
        },
        "id": "MqUyYLtM02iL",
        "outputId": "53a869ff-966e-4efb-d3a5-a512d28608fe"
      },
      "execution_count": null,
      "outputs": [
        {
          "output_type": "display_data",
          "data": {
            "text/plain": [
              "\u001b[1mModel: \"sequential_6\"\u001b[0m\n"
            ],
            "text/html": [
              "<pre style=\"white-space:pre;overflow-x:auto;line-height:normal;font-family:Menlo,'DejaVu Sans Mono',consolas,'Courier New',monospace\"><span style=\"font-weight: bold\">Model: \"sequential_6\"</span>\n",
              "</pre>\n"
            ]
          },
          "metadata": {}
        },
        {
          "output_type": "display_data",
          "data": {
            "text/plain": [
              "┏━━━━━━━━━━━━━━━━━━━━━━━━━━━━━━━━━━━━━━┳━━━━━━━━━━━━━━━━━━━━━━━━━━━━━┳━━━━━━━━━━━━━━━━━┓\n",
              "┃\u001b[1m \u001b[0m\u001b[1mLayer (type)                        \u001b[0m\u001b[1m \u001b[0m┃\u001b[1m \u001b[0m\u001b[1mOutput Shape               \u001b[0m\u001b[1m \u001b[0m┃\u001b[1m \u001b[0m\u001b[1m        Param #\u001b[0m\u001b[1m \u001b[0m┃\n",
              "┡━━━━━━━━━━━━━━━━━━━━━━━━━━━━━━━━━━━━━━╇━━━━━━━━━━━━━━━━━━━━━━━━━━━━━╇━━━━━━━━━━━━━━━━━┩\n",
              "│ conv2d_12 (\u001b[38;5;33mConv2D\u001b[0m)                   │ (\u001b[38;5;45mNone\u001b[0m, \u001b[38;5;34m49\u001b[0m, \u001b[38;5;34m10\u001b[0m, \u001b[38;5;34m8\u001b[0m)           │              \u001b[38;5;34m80\u001b[0m │\n",
              "├──────────────────────────────────────┼─────────────────────────────┼─────────────────┤\n",
              "│ max_pooling2d_12 (\u001b[38;5;33mMaxPooling2D\u001b[0m)      │ (\u001b[38;5;45mNone\u001b[0m, \u001b[38;5;34m24\u001b[0m, \u001b[38;5;34m5\u001b[0m, \u001b[38;5;34m8\u001b[0m)            │               \u001b[38;5;34m0\u001b[0m │\n",
              "├──────────────────────────────────────┼─────────────────────────────┼─────────────────┤\n",
              "│ conv2d_13 (\u001b[38;5;33mConv2D\u001b[0m)                   │ (\u001b[38;5;45mNone\u001b[0m, \u001b[38;5;34m24\u001b[0m, \u001b[38;5;34m5\u001b[0m, \u001b[38;5;34m16\u001b[0m)           │           \u001b[38;5;34m1,168\u001b[0m │\n",
              "├──────────────────────────────────────┼─────────────────────────────┼─────────────────┤\n",
              "│ max_pooling2d_13 (\u001b[38;5;33mMaxPooling2D\u001b[0m)      │ (\u001b[38;5;45mNone\u001b[0m, \u001b[38;5;34m12\u001b[0m, \u001b[38;5;34m2\u001b[0m, \u001b[38;5;34m16\u001b[0m)           │               \u001b[38;5;34m0\u001b[0m │\n",
              "├──────────────────────────────────────┼─────────────────────────────┼─────────────────┤\n",
              "│ global_average_pooling2d_4           │ (\u001b[38;5;45mNone\u001b[0m, \u001b[38;5;34m16\u001b[0m)                  │               \u001b[38;5;34m0\u001b[0m │\n",
              "│ (\u001b[38;5;33mGlobalAveragePooling2D\u001b[0m)             │                             │                 │\n",
              "├──────────────────────────────────────┼─────────────────────────────┼─────────────────┤\n",
              "│ dense_12 (\u001b[38;5;33mDense\u001b[0m)                     │ (\u001b[38;5;45mNone\u001b[0m, \u001b[38;5;34m32\u001b[0m)                  │             \u001b[38;5;34m544\u001b[0m │\n",
              "├──────────────────────────────────────┼─────────────────────────────┼─────────────────┤\n",
              "│ dense_13 (\u001b[38;5;33mDense\u001b[0m)                     │ (\u001b[38;5;45mNone\u001b[0m, \u001b[38;5;34m2\u001b[0m)                   │              \u001b[38;5;34m66\u001b[0m │\n",
              "└──────────────────────────────────────┴─────────────────────────────┴─────────────────┘\n"
            ],
            "text/html": [
              "<pre style=\"white-space:pre;overflow-x:auto;line-height:normal;font-family:Menlo,'DejaVu Sans Mono',consolas,'Courier New',monospace\">┏━━━━━━━━━━━━━━━━━━━━━━━━━━━━━━━━━━━━━━┳━━━━━━━━━━━━━━━━━━━━━━━━━━━━━┳━━━━━━━━━━━━━━━━━┓\n",
              "┃<span style=\"font-weight: bold\"> Layer (type)                         </span>┃<span style=\"font-weight: bold\"> Output Shape                </span>┃<span style=\"font-weight: bold\">         Param # </span>┃\n",
              "┡━━━━━━━━━━━━━━━━━━━━━━━━━━━━━━━━━━━━━━╇━━━━━━━━━━━━━━━━━━━━━━━━━━━━━╇━━━━━━━━━━━━━━━━━┩\n",
              "│ conv2d_12 (<span style=\"color: #0087ff; text-decoration-color: #0087ff\">Conv2D</span>)                   │ (<span style=\"color: #00d7ff; text-decoration-color: #00d7ff\">None</span>, <span style=\"color: #00af00; text-decoration-color: #00af00\">49</span>, <span style=\"color: #00af00; text-decoration-color: #00af00\">10</span>, <span style=\"color: #00af00; text-decoration-color: #00af00\">8</span>)           │              <span style=\"color: #00af00; text-decoration-color: #00af00\">80</span> │\n",
              "├──────────────────────────────────────┼─────────────────────────────┼─────────────────┤\n",
              "│ max_pooling2d_12 (<span style=\"color: #0087ff; text-decoration-color: #0087ff\">MaxPooling2D</span>)      │ (<span style=\"color: #00d7ff; text-decoration-color: #00d7ff\">None</span>, <span style=\"color: #00af00; text-decoration-color: #00af00\">24</span>, <span style=\"color: #00af00; text-decoration-color: #00af00\">5</span>, <span style=\"color: #00af00; text-decoration-color: #00af00\">8</span>)            │               <span style=\"color: #00af00; text-decoration-color: #00af00\">0</span> │\n",
              "├──────────────────────────────────────┼─────────────────────────────┼─────────────────┤\n",
              "│ conv2d_13 (<span style=\"color: #0087ff; text-decoration-color: #0087ff\">Conv2D</span>)                   │ (<span style=\"color: #00d7ff; text-decoration-color: #00d7ff\">None</span>, <span style=\"color: #00af00; text-decoration-color: #00af00\">24</span>, <span style=\"color: #00af00; text-decoration-color: #00af00\">5</span>, <span style=\"color: #00af00; text-decoration-color: #00af00\">16</span>)           │           <span style=\"color: #00af00; text-decoration-color: #00af00\">1,168</span> │\n",
              "├──────────────────────────────────────┼─────────────────────────────┼─────────────────┤\n",
              "│ max_pooling2d_13 (<span style=\"color: #0087ff; text-decoration-color: #0087ff\">MaxPooling2D</span>)      │ (<span style=\"color: #00d7ff; text-decoration-color: #00d7ff\">None</span>, <span style=\"color: #00af00; text-decoration-color: #00af00\">12</span>, <span style=\"color: #00af00; text-decoration-color: #00af00\">2</span>, <span style=\"color: #00af00; text-decoration-color: #00af00\">16</span>)           │               <span style=\"color: #00af00; text-decoration-color: #00af00\">0</span> │\n",
              "├──────────────────────────────────────┼─────────────────────────────┼─────────────────┤\n",
              "│ global_average_pooling2d_4           │ (<span style=\"color: #00d7ff; text-decoration-color: #00d7ff\">None</span>, <span style=\"color: #00af00; text-decoration-color: #00af00\">16</span>)                  │               <span style=\"color: #00af00; text-decoration-color: #00af00\">0</span> │\n",
              "│ (<span style=\"color: #0087ff; text-decoration-color: #0087ff\">GlobalAveragePooling2D</span>)             │                             │                 │\n",
              "├──────────────────────────────────────┼─────────────────────────────┼─────────────────┤\n",
              "│ dense_12 (<span style=\"color: #0087ff; text-decoration-color: #0087ff\">Dense</span>)                     │ (<span style=\"color: #00d7ff; text-decoration-color: #00d7ff\">None</span>, <span style=\"color: #00af00; text-decoration-color: #00af00\">32</span>)                  │             <span style=\"color: #00af00; text-decoration-color: #00af00\">544</span> │\n",
              "├──────────────────────────────────────┼─────────────────────────────┼─────────────────┤\n",
              "│ dense_13 (<span style=\"color: #0087ff; text-decoration-color: #0087ff\">Dense</span>)                     │ (<span style=\"color: #00d7ff; text-decoration-color: #00d7ff\">None</span>, <span style=\"color: #00af00; text-decoration-color: #00af00\">2</span>)                   │              <span style=\"color: #00af00; text-decoration-color: #00af00\">66</span> │\n",
              "└──────────────────────────────────────┴─────────────────────────────┴─────────────────┘\n",
              "</pre>\n"
            ]
          },
          "metadata": {}
        },
        {
          "output_type": "display_data",
          "data": {
            "text/plain": [
              "\u001b[1m Total params: \u001b[0m\u001b[38;5;34m1,858\u001b[0m (7.26 KB)\n"
            ],
            "text/html": [
              "<pre style=\"white-space:pre;overflow-x:auto;line-height:normal;font-family:Menlo,'DejaVu Sans Mono',consolas,'Courier New',monospace\"><span style=\"font-weight: bold\"> Total params: </span><span style=\"color: #00af00; text-decoration-color: #00af00\">1,858</span> (7.26 KB)\n",
              "</pre>\n"
            ]
          },
          "metadata": {}
        },
        {
          "output_type": "display_data",
          "data": {
            "text/plain": [
              "\u001b[1m Trainable params: \u001b[0m\u001b[38;5;34m1,858\u001b[0m (7.26 KB)\n"
            ],
            "text/html": [
              "<pre style=\"white-space:pre;overflow-x:auto;line-height:normal;font-family:Menlo,'DejaVu Sans Mono',consolas,'Courier New',monospace\"><span style=\"font-weight: bold\"> Trainable params: </span><span style=\"color: #00af00; text-decoration-color: #00af00\">1,858</span> (7.26 KB)\n",
              "</pre>\n"
            ]
          },
          "metadata": {}
        },
        {
          "output_type": "display_data",
          "data": {
            "text/plain": [
              "\u001b[1m Non-trainable params: \u001b[0m\u001b[38;5;34m0\u001b[0m (0.00 B)\n"
            ],
            "text/html": [
              "<pre style=\"white-space:pre;overflow-x:auto;line-height:normal;font-family:Menlo,'DejaVu Sans Mono',consolas,'Courier New',monospace\"><span style=\"font-weight: bold\"> Non-trainable params: </span><span style=\"color: #00af00; text-decoration-color: #00af00\">0</span> (0.00 B)\n",
              "</pre>\n"
            ]
          },
          "metadata": {}
        }
      ]
    },
    {
      "cell_type": "code",
      "source": [
        "# Train the model\n",
        "try:\n",
        "    history = model.fit(\n",
        "        train_dataset,\n",
        "        validation_data=validation_dataset,\n",
        "        epochs=50,\n",
        "        callbacks=[\n",
        "            tf.keras.callbacks.EarlyStopping(patience=5, restore_best_weights=True),\n",
        "            tf.keras.callbacks.ReduceLROnPlateau(factor=0.5, patience=3)\n",
        "        ],\n",
        "        verbose=1\n",
        "    )\n",
        "except Exception as e:\n",
        "    print(f\"An error occurred during training: {str(e)}\")\n",
        "    print(\"Error details:\")\n",
        "    import traceback\n",
        "    traceback.print_exc()"
      ],
      "metadata": {
        "colab": {
          "base_uri": "https://localhost:8080/"
        },
        "id": "LPYmXrct155e",
        "outputId": "e8c5e9d7-5657-477d-e8c6-e4525df204ad"
      },
      "execution_count": null,
      "outputs": [
        {
          "output_type": "stream",
          "name": "stdout",
          "text": [
            "Epoch 1/50\n",
            "     99/Unknown \u001b[1m11s\u001b[0m 52ms/step - accuracy: 0.6950 - loss: 0.6205"
          ]
        },
        {
          "output_type": "stream",
          "name": "stderr",
          "text": [
            "/usr/lib/python3.10/contextlib.py:153: UserWarning: Your input ran out of data; interrupting training. Make sure that your dataset or generator can generate at least `steps_per_epoch * epochs` batches. You may need to use the `.repeat()` function when building your dataset.\n",
            "  self.gen.throw(typ, value, traceback)\n"
          ]
        },
        {
          "output_type": "stream",
          "name": "stdout",
          "text": [
            "\b\b\b\b\b\b\b\b\b\b\b\b\b\b\b\b\b\b\b\b\b\b\b\b\b\b\b\b\b\b\b\b\b\b\b\b\b\b\b\b\b\b\b\b\b\b\b\b\b\b\b\b\b\b\b\b\b\b\b\b\b\b\b\r\u001b[1m100/100\u001b[0m \u001b[32m━━━━━━━━━━━━━━━━━━━━\u001b[0m\u001b[37m\u001b[0m \u001b[1m12s\u001b[0m 61ms/step - accuracy: 0.6967 - loss: 0.6187 - val_accuracy: 0.8418 - val_loss: 0.3759 - learning_rate: 0.0010\n",
            "Epoch 2/50\n",
            "\u001b[1m100/100\u001b[0m \u001b[32m━━━━━━━━━━━━━━━━━━━━\u001b[0m\u001b[37m\u001b[0m \u001b[1m5s\u001b[0m 47ms/step - accuracy: 0.8718 - loss: 0.3230 - val_accuracy: 0.8742 - val_loss: 0.3295 - learning_rate: 0.0010\n",
            "Epoch 3/50\n",
            "\u001b[1m100/100\u001b[0m \u001b[32m━━━━━━━━━━━━━━━━━━━━\u001b[0m\u001b[37m\u001b[0m \u001b[1m4s\u001b[0m 40ms/step - accuracy: 0.8909 - loss: 0.2725 - val_accuracy: 0.8792 - val_loss: 0.2847 - learning_rate: 0.0010\n",
            "Epoch 4/50\n",
            "\u001b[1m100/100\u001b[0m \u001b[32m━━━━━━━━━━━━━━━━━━━━\u001b[0m\u001b[37m\u001b[0m \u001b[1m4s\u001b[0m 34ms/step - accuracy: 0.9049 - loss: 0.2460 - val_accuracy: 0.8979 - val_loss: 0.2622 - learning_rate: 0.0010\n",
            "Epoch 5/50\n",
            "\u001b[1m100/100\u001b[0m \u001b[32m━━━━━━━━━━━━━━━━━━━━\u001b[0m\u001b[37m\u001b[0m \u001b[1m4s\u001b[0m 37ms/step - accuracy: 0.9165 - loss: 0.2205 - val_accuracy: 0.9166 - val_loss: 0.2308 - learning_rate: 0.0010\n",
            "Epoch 6/50\n",
            "\u001b[1m100/100\u001b[0m \u001b[32m━━━━━━━━━━━━━━━━━━━━\u001b[0m\u001b[37m\u001b[0m \u001b[1m6s\u001b[0m 57ms/step - accuracy: 0.9314 - loss: 0.1924 - val_accuracy: 0.9153 - val_loss: 0.2115 - learning_rate: 0.0010\n",
            "Epoch 7/50\n",
            "\u001b[1m100/100\u001b[0m \u001b[32m━━━━━━━━━━━━━━━━━━━━\u001b[0m\u001b[37m\u001b[0m \u001b[1m5s\u001b[0m 50ms/step - accuracy: 0.9390 - loss: 0.1714 - val_accuracy: 0.9203 - val_loss: 0.2157 - learning_rate: 0.0010\n",
            "Epoch 8/50\n",
            "\u001b[1m100/100\u001b[0m \u001b[32m━━━━━━━━━━━━━━━━━━━━\u001b[0m\u001b[37m\u001b[0m \u001b[1m3s\u001b[0m 32ms/step - accuracy: 0.9421 - loss: 0.1612 - val_accuracy: 0.9240 - val_loss: 0.1865 - learning_rate: 0.0010\n",
            "Epoch 9/50\n",
            "\u001b[1m100/100\u001b[0m \u001b[32m━━━━━━━━━━━━━━━━━━━━\u001b[0m\u001b[37m\u001b[0m \u001b[1m6s\u001b[0m 42ms/step - accuracy: 0.9432 - loss: 0.1607 - val_accuracy: 0.9328 - val_loss: 0.1798 - learning_rate: 0.0010\n",
            "Epoch 10/50\n",
            "\u001b[1m100/100\u001b[0m \u001b[32m━━━━━━━━━━━━━━━━━━━━\u001b[0m\u001b[37m\u001b[0m \u001b[1m4s\u001b[0m 34ms/step - accuracy: 0.9475 - loss: 0.1509 - val_accuracy: 0.9352 - val_loss: 0.1679 - learning_rate: 0.0010\n",
            "Epoch 11/50\n",
            "\u001b[1m100/100\u001b[0m \u001b[32m━━━━━━━━━━━━━━━━━━━━\u001b[0m\u001b[37m\u001b[0m \u001b[1m4s\u001b[0m 34ms/step - accuracy: 0.9449 - loss: 0.1465 - val_accuracy: 0.9402 - val_loss: 0.1596 - learning_rate: 0.0010\n",
            "Epoch 12/50\n",
            "\u001b[1m100/100\u001b[0m \u001b[32m━━━━━━━━━━━━━━━━━━━━\u001b[0m\u001b[37m\u001b[0m \u001b[1m6s\u001b[0m 43ms/step - accuracy: 0.9513 - loss: 0.1362 - val_accuracy: 0.9377 - val_loss: 0.1578 - learning_rate: 0.0010\n",
            "Epoch 13/50\n",
            "\u001b[1m100/100\u001b[0m \u001b[32m━━━━━━━━━━━━━━━━━━━━\u001b[0m\u001b[37m\u001b[0m \u001b[1m4s\u001b[0m 35ms/step - accuracy: 0.9459 - loss: 0.1401 - val_accuracy: 0.9402 - val_loss: 0.1503 - learning_rate: 0.0010\n",
            "Epoch 14/50\n",
            "\u001b[1m100/100\u001b[0m \u001b[32m━━━━━━━━━━━━━━━━━━━━\u001b[0m\u001b[37m\u001b[0m \u001b[1m3s\u001b[0m 33ms/step - accuracy: 0.9504 - loss: 0.1297 - val_accuracy: 0.9465 - val_loss: 0.1399 - learning_rate: 0.0010\n",
            "Epoch 15/50\n",
            "\u001b[1m100/100\u001b[0m \u001b[32m━━━━━━━━━━━━━━━━━━━━\u001b[0m\u001b[37m\u001b[0m \u001b[1m5s\u001b[0m 53ms/step - accuracy: 0.9554 - loss: 0.1288 - val_accuracy: 0.9514 - val_loss: 0.1334 - learning_rate: 0.0010\n",
            "Epoch 16/50\n",
            "\u001b[1m100/100\u001b[0m \u001b[32m━━━━━━━━━━━━━━━━━━━━\u001b[0m\u001b[37m\u001b[0m \u001b[1m4s\u001b[0m 34ms/step - accuracy: 0.9541 - loss: 0.1276 - val_accuracy: 0.9477 - val_loss: 0.1312 - learning_rate: 0.0010\n",
            "Epoch 17/50\n",
            "\u001b[1m100/100\u001b[0m \u001b[32m━━━━━━━━━━━━━━━━━━━━\u001b[0m\u001b[37m\u001b[0m \u001b[1m4s\u001b[0m 34ms/step - accuracy: 0.9551 - loss: 0.1265 - val_accuracy: 0.9589 - val_loss: 0.1238 - learning_rate: 0.0010\n",
            "Epoch 18/50\n",
            "\u001b[1m100/100\u001b[0m \u001b[32m━━━━━━━━━━━━━━━━━━━━\u001b[0m\u001b[37m\u001b[0m \u001b[1m4s\u001b[0m 37ms/step - accuracy: 0.9550 - loss: 0.1222 - val_accuracy: 0.9440 - val_loss: 0.1372 - learning_rate: 0.0010\n",
            "Epoch 19/50\n",
            "\u001b[1m100/100\u001b[0m \u001b[32m━━━━━━━━━━━━━━━━━━━━\u001b[0m\u001b[37m\u001b[0m \u001b[1m5s\u001b[0m 51ms/step - accuracy: 0.9557 - loss: 0.1211 - val_accuracy: 0.9614 - val_loss: 0.1192 - learning_rate: 0.0010\n",
            "Epoch 20/50\n",
            "\u001b[1m100/100\u001b[0m \u001b[32m━━━━━━━━━━━━━━━━━━━━\u001b[0m\u001b[37m\u001b[0m \u001b[1m9s\u001b[0m 35ms/step - accuracy: 0.9561 - loss: 0.1249 - val_accuracy: 0.9626 - val_loss: 0.1142 - learning_rate: 0.0010\n",
            "Epoch 21/50\n",
            "\u001b[1m100/100\u001b[0m \u001b[32m━━━━━━━━━━━━━━━━━━━━\u001b[0m\u001b[37m\u001b[0m \u001b[1m5s\u001b[0m 52ms/step - accuracy: 0.9646 - loss: 0.1086 - val_accuracy: 0.9489 - val_loss: 0.1307 - learning_rate: 0.0010\n",
            "Epoch 22/50\n",
            "\u001b[1m100/100\u001b[0m \u001b[32m━━━━━━━━━━━━━━━━━━━━\u001b[0m\u001b[37m\u001b[0m \u001b[1m4s\u001b[0m 36ms/step - accuracy: 0.9582 - loss: 0.1079 - val_accuracy: 0.9465 - val_loss: 0.1457 - learning_rate: 0.0010\n",
            "Epoch 23/50\n",
            "\u001b[1m100/100\u001b[0m \u001b[32m━━━━━━━━━━━━━━━━━━━━\u001b[0m\u001b[37m\u001b[0m \u001b[1m3s\u001b[0m 33ms/step - accuracy: 0.9618 - loss: 0.1016 - val_accuracy: 0.9651 - val_loss: 0.1100 - learning_rate: 0.0010\n",
            "Epoch 24/50\n",
            "\u001b[1m100/100\u001b[0m \u001b[32m━━━━━━━━━━━━━━━━━━━━\u001b[0m\u001b[37m\u001b[0m \u001b[1m4s\u001b[0m 35ms/step - accuracy: 0.9641 - loss: 0.1019 - val_accuracy: 0.9639 - val_loss: 0.1113 - learning_rate: 0.0010\n",
            "Epoch 25/50\n",
            "\u001b[1m100/100\u001b[0m \u001b[32m━━━━━━━━━━━━━━━━━━━━\u001b[0m\u001b[37m\u001b[0m \u001b[1m6s\u001b[0m 56ms/step - accuracy: 0.9639 - loss: 0.0976 - val_accuracy: 0.9689 - val_loss: 0.1052 - learning_rate: 0.0010\n",
            "Epoch 26/50\n",
            "\u001b[1m100/100\u001b[0m \u001b[32m━━━━━━━━━━━━━━━━━━━━\u001b[0m\u001b[37m\u001b[0m \u001b[1m8s\u001b[0m 34ms/step - accuracy: 0.9692 - loss: 0.0901 - val_accuracy: 0.9651 - val_loss: 0.1074 - learning_rate: 0.0010\n",
            "Epoch 27/50\n",
            "\u001b[1m100/100\u001b[0m \u001b[32m━━━━━━━━━━━━━━━━━━━━\u001b[0m\u001b[37m\u001b[0m \u001b[1m5s\u001b[0m 49ms/step - accuracy: 0.9674 - loss: 0.0908 - val_accuracy: 0.9589 - val_loss: 0.1118 - learning_rate: 0.0010\n",
            "Epoch 28/50\n",
            "\u001b[1m100/100\u001b[0m \u001b[32m━━━━━━━━━━━━━━━━━━━━\u001b[0m\u001b[37m\u001b[0m \u001b[1m4s\u001b[0m 40ms/step - accuracy: 0.9667 - loss: 0.0895 - val_accuracy: 0.9689 - val_loss: 0.0995 - learning_rate: 0.0010\n",
            "Epoch 29/50\n",
            "\u001b[1m100/100\u001b[0m \u001b[32m━━━━━━━━━━━━━━━━━━━━\u001b[0m\u001b[37m\u001b[0m \u001b[1m4s\u001b[0m 34ms/step - accuracy: 0.9680 - loss: 0.0922 - val_accuracy: 0.9676 - val_loss: 0.0992 - learning_rate: 0.0010\n",
            "Epoch 30/50\n",
            "\u001b[1m100/100\u001b[0m \u001b[32m━━━━━━━━━━━━━━━━━━━━\u001b[0m\u001b[37m\u001b[0m \u001b[1m4s\u001b[0m 34ms/step - accuracy: 0.9684 - loss: 0.0821 - val_accuracy: 0.9714 - val_loss: 0.0960 - learning_rate: 0.0010\n",
            "Epoch 31/50\n",
            "\u001b[1m100/100\u001b[0m \u001b[32m━━━━━━━━━━━━━━━━━━━━\u001b[0m\u001b[37m\u001b[0m \u001b[1m7s\u001b[0m 48ms/step - accuracy: 0.9692 - loss: 0.0851 - val_accuracy: 0.9601 - val_loss: 0.1102 - learning_rate: 0.0010\n",
            "Epoch 32/50\n",
            "\u001b[1m100/100\u001b[0m \u001b[32m━━━━━━━━━━━━━━━━━━━━\u001b[0m\u001b[37m\u001b[0m \u001b[1m4s\u001b[0m 34ms/step - accuracy: 0.9680 - loss: 0.0845 - val_accuracy: 0.9689 - val_loss: 0.0976 - learning_rate: 0.0010\n",
            "Epoch 33/50\n",
            "\u001b[1m100/100\u001b[0m \u001b[32m━━━━━━━━━━━━━━━━━━━━\u001b[0m\u001b[37m\u001b[0m \u001b[1m6s\u001b[0m 38ms/step - accuracy: 0.9644 - loss: 0.0950 - val_accuracy: 0.9664 - val_loss: 0.0986 - learning_rate: 0.0010\n",
            "Epoch 34/50\n",
            "\u001b[1m100/100\u001b[0m \u001b[32m━━━━━━━━━━━━━━━━━━━━\u001b[0m\u001b[37m\u001b[0m \u001b[1m6s\u001b[0m 53ms/step - accuracy: 0.9735 - loss: 0.0766 - val_accuracy: 0.9564 - val_loss: 0.1107 - learning_rate: 5.0000e-04\n",
            "Epoch 35/50\n",
            "\u001b[1m100/100\u001b[0m \u001b[32m━━━━━━━━━━━━━━━━━━━━\u001b[0m\u001b[37m\u001b[0m \u001b[1m8s\u001b[0m 34ms/step - accuracy: 0.9710 - loss: 0.0769 - val_accuracy: 0.9676 - val_loss: 0.0945 - learning_rate: 5.0000e-04\n",
            "Epoch 36/50\n",
            "\u001b[1m100/100\u001b[0m \u001b[32m━━━━━━━━━━━━━━━━━━━━\u001b[0m\u001b[37m\u001b[0m \u001b[1m6s\u001b[0m 54ms/step - accuracy: 0.9756 - loss: 0.0693 - val_accuracy: 0.9651 - val_loss: 0.0917 - learning_rate: 5.0000e-04\n",
            "Epoch 37/50\n",
            "\u001b[1m100/100\u001b[0m \u001b[32m━━━━━━━━━━━━━━━━━━━━\u001b[0m\u001b[37m\u001b[0m \u001b[1m8s\u001b[0m 34ms/step - accuracy: 0.9735 - loss: 0.0708 - val_accuracy: 0.9601 - val_loss: 0.1012 - learning_rate: 5.0000e-04\n",
            "Epoch 38/50\n",
            "\u001b[1m100/100\u001b[0m \u001b[32m━━━━━━━━━━━━━━━━━━━━\u001b[0m\u001b[37m\u001b[0m \u001b[1m7s\u001b[0m 52ms/step - accuracy: 0.9730 - loss: 0.0781 - val_accuracy: 0.9689 - val_loss: 0.0912 - learning_rate: 5.0000e-04\n",
            "Epoch 39/50\n",
            "\u001b[1m100/100\u001b[0m \u001b[32m━━━━━━━━━━━━━━━━━━━━\u001b[0m\u001b[37m\u001b[0m \u001b[1m13s\u001b[0m 84ms/step - accuracy: 0.9732 - loss: 0.0722 - val_accuracy: 0.9676 - val_loss: 0.0980 - learning_rate: 5.0000e-04\n",
            "Epoch 40/50\n",
            "\u001b[1m100/100\u001b[0m \u001b[32m━━━━━━━━━━━━━━━━━━━━\u001b[0m\u001b[37m\u001b[0m \u001b[1m10s\u001b[0m 86ms/step - accuracy: 0.9749 - loss: 0.0685 - val_accuracy: 0.9676 - val_loss: 0.0876 - learning_rate: 5.0000e-04\n",
            "Epoch 41/50\n",
            "\u001b[1m100/100\u001b[0m \u001b[32m━━━━━━━━━━━━━━━━━━━━\u001b[0m\u001b[37m\u001b[0m \u001b[1m9s\u001b[0m 75ms/step - accuracy: 0.9742 - loss: 0.0715 - val_accuracy: 0.9714 - val_loss: 0.0895 - learning_rate: 5.0000e-04\n",
            "Epoch 42/50\n",
            "\u001b[1m100/100\u001b[0m \u001b[32m━━━━━━━━━━━━━━━━━━━━\u001b[0m\u001b[37m\u001b[0m \u001b[1m6s\u001b[0m 53ms/step - accuracy: 0.9753 - loss: 0.0708 - val_accuracy: 0.9676 - val_loss: 0.0887 - learning_rate: 5.0000e-04\n",
            "Epoch 43/50\n",
            "\u001b[1m100/100\u001b[0m \u001b[32m━━━━━━━━━━━━━━━━━━━━\u001b[0m\u001b[37m\u001b[0m \u001b[1m7s\u001b[0m 67ms/step - accuracy: 0.9751 - loss: 0.0653 - val_accuracy: 0.9714 - val_loss: 0.0861 - learning_rate: 5.0000e-04\n",
            "Epoch 44/50\n",
            "\u001b[1m100/100\u001b[0m \u001b[32m━━━━━━━━━━━━━━━━━━━━\u001b[0m\u001b[37m\u001b[0m \u001b[1m8s\u001b[0m 75ms/step - accuracy: 0.9779 - loss: 0.0621 - val_accuracy: 0.9651 - val_loss: 0.0962 - learning_rate: 5.0000e-04\n",
            "Epoch 45/50\n",
            "\u001b[1m100/100\u001b[0m \u001b[32m━━━━━━━━━━━━━━━━━━━━\u001b[0m\u001b[37m\u001b[0m \u001b[1m5s\u001b[0m 49ms/step - accuracy: 0.9744 - loss: 0.0726 - val_accuracy: 0.9614 - val_loss: 0.0919 - learning_rate: 5.0000e-04\n",
            "Epoch 46/50\n",
            "\u001b[1m100/100\u001b[0m \u001b[32m━━━━━━━━━━━━━━━━━━━━\u001b[0m\u001b[37m\u001b[0m \u001b[1m10s\u001b[0m 50ms/step - accuracy: 0.9779 - loss: 0.0632 - val_accuracy: 0.9664 - val_loss: 0.0887 - learning_rate: 5.0000e-04\n",
            "Epoch 47/50\n",
            "\u001b[1m100/100\u001b[0m \u001b[32m━━━━━━━━━━━━━━━━━━━━\u001b[0m\u001b[37m\u001b[0m \u001b[1m5s\u001b[0m 51ms/step - accuracy: 0.9786 - loss: 0.0593 - val_accuracy: 0.9701 - val_loss: 0.0894 - learning_rate: 2.5000e-04\n",
            "Epoch 48/50\n",
            "\u001b[1m100/100\u001b[0m \u001b[32m━━━━━━━━━━━━━━━━━━━━\u001b[0m\u001b[37m\u001b[0m \u001b[1m7s\u001b[0m 66ms/step - accuracy: 0.9776 - loss: 0.0614 - val_accuracy: 0.9689 - val_loss: 0.0882 - learning_rate: 2.5000e-04\n"
          ]
        }
      ]
    },
    {
      "cell_type": "code",
      "source": [
        "def create_teacher_model(input_shape=(49, 10, 1), num_classes=2):\n",
        "    model = models.Sequential([\n",
        "        layers.Input(shape=input_shape),\n",
        "\n",
        "        layers.Conv2D(32, (3, 3), activation='relu', padding='same'),\n",
        "        layers.MaxPooling2D((2, 2)),\n",
        "\n",
        "        layers.Conv2D(64, (3, 3), activation='relu', padding='same'),\n",
        "        layers.MaxPooling2D((2, 2)),\n",
        "\n",
        "        layers.Conv2D(128, (3, 3), activation='relu', padding='same'),\n",
        "        layers.MaxPooling2D((2, 2)),\n",
        "\n",
        "        layers.GlobalAveragePooling2D(),\n",
        "\n",
        "        layers.Dense(256, activation='relu'),\n",
        "        layers.Dense(num_classes)\n",
        "    ])\n",
        "\n",
        "    return model\n",
        "\n",
        "# Create and compile the teacher model\n",
        "teacher_model = create_teacher_model()\n",
        "teacher_model.compile(optimizer='adam',\n",
        "              loss=tf.keras.losses.SparseCategoricalCrossentropy(from_logits=True),\n",
        "              metrics=['accuracy'])\n",
        "\n",
        "# Print model summary\n",
        "teacher_model.summary()"
      ],
      "metadata": {
        "colab": {
          "base_uri": "https://localhost:8080/",
          "height": 459
        },
        "id": "yDtAJ7hgMh5H",
        "outputId": "cf5604af-09a0-4158-a098-e7d13677d281"
      },
      "execution_count": null,
      "outputs": [
        {
          "output_type": "display_data",
          "data": {
            "text/plain": [
              "\u001b[1mModel: \"sequential_9\"\u001b[0m\n"
            ],
            "text/html": [
              "<pre style=\"white-space:pre;overflow-x:auto;line-height:normal;font-family:Menlo,'DejaVu Sans Mono',consolas,'Courier New',monospace\"><span style=\"font-weight: bold\">Model: \"sequential_9\"</span>\n",
              "</pre>\n"
            ]
          },
          "metadata": {}
        },
        {
          "output_type": "display_data",
          "data": {
            "text/plain": [
              "┏━━━━━━━━━━━━━━━━━━━━━━━━━━━━━━━━━━━━━━┳━━━━━━━━━━━━━━━━━━━━━━━━━━━━━┳━━━━━━━━━━━━━━━━━┓\n",
              "┃\u001b[1m \u001b[0m\u001b[1mLayer (type)                        \u001b[0m\u001b[1m \u001b[0m┃\u001b[1m \u001b[0m\u001b[1mOutput Shape               \u001b[0m\u001b[1m \u001b[0m┃\u001b[1m \u001b[0m\u001b[1m        Param #\u001b[0m\u001b[1m \u001b[0m┃\n",
              "┡━━━━━━━━━━━━━━━━━━━━━━━━━━━━━━━━━━━━━━╇━━━━━━━━━━━━━━━━━━━━━━━━━━━━━╇━━━━━━━━━━━━━━━━━┩\n",
              "│ conv2d_20 (\u001b[38;5;33mConv2D\u001b[0m)                   │ (\u001b[38;5;45mNone\u001b[0m, \u001b[38;5;34m49\u001b[0m, \u001b[38;5;34m10\u001b[0m, \u001b[38;5;34m32\u001b[0m)          │             \u001b[38;5;34m320\u001b[0m │\n",
              "├──────────────────────────────────────┼─────────────────────────────┼─────────────────┤\n",
              "│ max_pooling2d_20 (\u001b[38;5;33mMaxPooling2D\u001b[0m)      │ (\u001b[38;5;45mNone\u001b[0m, \u001b[38;5;34m24\u001b[0m, \u001b[38;5;34m5\u001b[0m, \u001b[38;5;34m32\u001b[0m)           │               \u001b[38;5;34m0\u001b[0m │\n",
              "├──────────────────────────────────────┼─────────────────────────────┼─────────────────┤\n",
              "│ conv2d_21 (\u001b[38;5;33mConv2D\u001b[0m)                   │ (\u001b[38;5;45mNone\u001b[0m, \u001b[38;5;34m24\u001b[0m, \u001b[38;5;34m5\u001b[0m, \u001b[38;5;34m64\u001b[0m)           │          \u001b[38;5;34m18,496\u001b[0m │\n",
              "├──────────────────────────────────────┼─────────────────────────────┼─────────────────┤\n",
              "│ max_pooling2d_21 (\u001b[38;5;33mMaxPooling2D\u001b[0m)      │ (\u001b[38;5;45mNone\u001b[0m, \u001b[38;5;34m12\u001b[0m, \u001b[38;5;34m2\u001b[0m, \u001b[38;5;34m64\u001b[0m)           │               \u001b[38;5;34m0\u001b[0m │\n",
              "├──────────────────────────────────────┼─────────────────────────────┼─────────────────┤\n",
              "│ conv2d_22 (\u001b[38;5;33mConv2D\u001b[0m)                   │ (\u001b[38;5;45mNone\u001b[0m, \u001b[38;5;34m12\u001b[0m, \u001b[38;5;34m2\u001b[0m, \u001b[38;5;34m128\u001b[0m)          │          \u001b[38;5;34m73,856\u001b[0m │\n",
              "├──────────────────────────────────────┼─────────────────────────────┼─────────────────┤\n",
              "│ max_pooling2d_22 (\u001b[38;5;33mMaxPooling2D\u001b[0m)      │ (\u001b[38;5;45mNone\u001b[0m, \u001b[38;5;34m6\u001b[0m, \u001b[38;5;34m1\u001b[0m, \u001b[38;5;34m128\u001b[0m)           │               \u001b[38;5;34m0\u001b[0m │\n",
              "├──────────────────────────────────────┼─────────────────────────────┼─────────────────┤\n",
              "│ global_average_pooling2d_5           │ (\u001b[38;5;45mNone\u001b[0m, \u001b[38;5;34m128\u001b[0m)                 │               \u001b[38;5;34m0\u001b[0m │\n",
              "│ (\u001b[38;5;33mGlobalAveragePooling2D\u001b[0m)             │                             │                 │\n",
              "├──────────────────────────────────────┼─────────────────────────────┼─────────────────┤\n",
              "│ dense_18 (\u001b[38;5;33mDense\u001b[0m)                     │ (\u001b[38;5;45mNone\u001b[0m, \u001b[38;5;34m256\u001b[0m)                 │          \u001b[38;5;34m33,024\u001b[0m │\n",
              "├──────────────────────────────────────┼─────────────────────────────┼─────────────────┤\n",
              "│ dense_19 (\u001b[38;5;33mDense\u001b[0m)                     │ (\u001b[38;5;45mNone\u001b[0m, \u001b[38;5;34m2\u001b[0m)                   │             \u001b[38;5;34m514\u001b[0m │\n",
              "└──────────────────────────────────────┴─────────────────────────────┴─────────────────┘\n"
            ],
            "text/html": [
              "<pre style=\"white-space:pre;overflow-x:auto;line-height:normal;font-family:Menlo,'DejaVu Sans Mono',consolas,'Courier New',monospace\">┏━━━━━━━━━━━━━━━━━━━━━━━━━━━━━━━━━━━━━━┳━━━━━━━━━━━━━━━━━━━━━━━━━━━━━┳━━━━━━━━━━━━━━━━━┓\n",
              "┃<span style=\"font-weight: bold\"> Layer (type)                         </span>┃<span style=\"font-weight: bold\"> Output Shape                </span>┃<span style=\"font-weight: bold\">         Param # </span>┃\n",
              "┡━━━━━━━━━━━━━━━━━━━━━━━━━━━━━━━━━━━━━━╇━━━━━━━━━━━━━━━━━━━━━━━━━━━━━╇━━━━━━━━━━━━━━━━━┩\n",
              "│ conv2d_20 (<span style=\"color: #0087ff; text-decoration-color: #0087ff\">Conv2D</span>)                   │ (<span style=\"color: #00d7ff; text-decoration-color: #00d7ff\">None</span>, <span style=\"color: #00af00; text-decoration-color: #00af00\">49</span>, <span style=\"color: #00af00; text-decoration-color: #00af00\">10</span>, <span style=\"color: #00af00; text-decoration-color: #00af00\">32</span>)          │             <span style=\"color: #00af00; text-decoration-color: #00af00\">320</span> │\n",
              "├──────────────────────────────────────┼─────────────────────────────┼─────────────────┤\n",
              "│ max_pooling2d_20 (<span style=\"color: #0087ff; text-decoration-color: #0087ff\">MaxPooling2D</span>)      │ (<span style=\"color: #00d7ff; text-decoration-color: #00d7ff\">None</span>, <span style=\"color: #00af00; text-decoration-color: #00af00\">24</span>, <span style=\"color: #00af00; text-decoration-color: #00af00\">5</span>, <span style=\"color: #00af00; text-decoration-color: #00af00\">32</span>)           │               <span style=\"color: #00af00; text-decoration-color: #00af00\">0</span> │\n",
              "├──────────────────────────────────────┼─────────────────────────────┼─────────────────┤\n",
              "│ conv2d_21 (<span style=\"color: #0087ff; text-decoration-color: #0087ff\">Conv2D</span>)                   │ (<span style=\"color: #00d7ff; text-decoration-color: #00d7ff\">None</span>, <span style=\"color: #00af00; text-decoration-color: #00af00\">24</span>, <span style=\"color: #00af00; text-decoration-color: #00af00\">5</span>, <span style=\"color: #00af00; text-decoration-color: #00af00\">64</span>)           │          <span style=\"color: #00af00; text-decoration-color: #00af00\">18,496</span> │\n",
              "├──────────────────────────────────────┼─────────────────────────────┼─────────────────┤\n",
              "│ max_pooling2d_21 (<span style=\"color: #0087ff; text-decoration-color: #0087ff\">MaxPooling2D</span>)      │ (<span style=\"color: #00d7ff; text-decoration-color: #00d7ff\">None</span>, <span style=\"color: #00af00; text-decoration-color: #00af00\">12</span>, <span style=\"color: #00af00; text-decoration-color: #00af00\">2</span>, <span style=\"color: #00af00; text-decoration-color: #00af00\">64</span>)           │               <span style=\"color: #00af00; text-decoration-color: #00af00\">0</span> │\n",
              "├──────────────────────────────────────┼─────────────────────────────┼─────────────────┤\n",
              "│ conv2d_22 (<span style=\"color: #0087ff; text-decoration-color: #0087ff\">Conv2D</span>)                   │ (<span style=\"color: #00d7ff; text-decoration-color: #00d7ff\">None</span>, <span style=\"color: #00af00; text-decoration-color: #00af00\">12</span>, <span style=\"color: #00af00; text-decoration-color: #00af00\">2</span>, <span style=\"color: #00af00; text-decoration-color: #00af00\">128</span>)          │          <span style=\"color: #00af00; text-decoration-color: #00af00\">73,856</span> │\n",
              "├──────────────────────────────────────┼─────────────────────────────┼─────────────────┤\n",
              "│ max_pooling2d_22 (<span style=\"color: #0087ff; text-decoration-color: #0087ff\">MaxPooling2D</span>)      │ (<span style=\"color: #00d7ff; text-decoration-color: #00d7ff\">None</span>, <span style=\"color: #00af00; text-decoration-color: #00af00\">6</span>, <span style=\"color: #00af00; text-decoration-color: #00af00\">1</span>, <span style=\"color: #00af00; text-decoration-color: #00af00\">128</span>)           │               <span style=\"color: #00af00; text-decoration-color: #00af00\">0</span> │\n",
              "├──────────────────────────────────────┼─────────────────────────────┼─────────────────┤\n",
              "│ global_average_pooling2d_5           │ (<span style=\"color: #00d7ff; text-decoration-color: #00d7ff\">None</span>, <span style=\"color: #00af00; text-decoration-color: #00af00\">128</span>)                 │               <span style=\"color: #00af00; text-decoration-color: #00af00\">0</span> │\n",
              "│ (<span style=\"color: #0087ff; text-decoration-color: #0087ff\">GlobalAveragePooling2D</span>)             │                             │                 │\n",
              "├──────────────────────────────────────┼─────────────────────────────┼─────────────────┤\n",
              "│ dense_18 (<span style=\"color: #0087ff; text-decoration-color: #0087ff\">Dense</span>)                     │ (<span style=\"color: #00d7ff; text-decoration-color: #00d7ff\">None</span>, <span style=\"color: #00af00; text-decoration-color: #00af00\">256</span>)                 │          <span style=\"color: #00af00; text-decoration-color: #00af00\">33,024</span> │\n",
              "├──────────────────────────────────────┼─────────────────────────────┼─────────────────┤\n",
              "│ dense_19 (<span style=\"color: #0087ff; text-decoration-color: #0087ff\">Dense</span>)                     │ (<span style=\"color: #00d7ff; text-decoration-color: #00d7ff\">None</span>, <span style=\"color: #00af00; text-decoration-color: #00af00\">2</span>)                   │             <span style=\"color: #00af00; text-decoration-color: #00af00\">514</span> │\n",
              "└──────────────────────────────────────┴─────────────────────────────┴─────────────────┘\n",
              "</pre>\n"
            ]
          },
          "metadata": {}
        },
        {
          "output_type": "display_data",
          "data": {
            "text/plain": [
              "\u001b[1m Total params: \u001b[0m\u001b[38;5;34m126,210\u001b[0m (493.01 KB)\n"
            ],
            "text/html": [
              "<pre style=\"white-space:pre;overflow-x:auto;line-height:normal;font-family:Menlo,'DejaVu Sans Mono',consolas,'Courier New',monospace\"><span style=\"font-weight: bold\"> Total params: </span><span style=\"color: #00af00; text-decoration-color: #00af00\">126,210</span> (493.01 KB)\n",
              "</pre>\n"
            ]
          },
          "metadata": {}
        },
        {
          "output_type": "display_data",
          "data": {
            "text/plain": [
              "\u001b[1m Trainable params: \u001b[0m\u001b[38;5;34m126,210\u001b[0m (493.01 KB)\n"
            ],
            "text/html": [
              "<pre style=\"white-space:pre;overflow-x:auto;line-height:normal;font-family:Menlo,'DejaVu Sans Mono',consolas,'Courier New',monospace\"><span style=\"font-weight: bold\"> Trainable params: </span><span style=\"color: #00af00; text-decoration-color: #00af00\">126,210</span> (493.01 KB)\n",
              "</pre>\n"
            ]
          },
          "metadata": {}
        },
        {
          "output_type": "display_data",
          "data": {
            "text/plain": [
              "\u001b[1m Non-trainable params: \u001b[0m\u001b[38;5;34m0\u001b[0m (0.00 B)\n"
            ],
            "text/html": [
              "<pre style=\"white-space:pre;overflow-x:auto;line-height:normal;font-family:Menlo,'DejaVu Sans Mono',consolas,'Courier New',monospace\"><span style=\"font-weight: bold\"> Non-trainable params: </span><span style=\"color: #00af00; text-decoration-color: #00af00\">0</span> (0.00 B)\n",
              "</pre>\n"
            ]
          },
          "metadata": {}
        }
      ]
    },
    {
      "cell_type": "code",
      "source": [
        "# Train the teacher model\n",
        "try:\n",
        "    history = teacher_model.fit(\n",
        "        train_dataset,\n",
        "        validation_data=validation_dataset,\n",
        "        epochs=50,\n",
        "        callbacks=[\n",
        "            tf.keras.callbacks.EarlyStopping(patience=5, restore_best_weights=True),\n",
        "            tf.keras.callbacks.ReduceLROnPlateau(factor=0.5, patience=3)\n",
        "        ],\n",
        "        verbose=1\n",
        "    )\n",
        "except Exception as e:\n",
        "    print(f\"An error occurred during training: {str(e)}\")\n",
        "    print(\"Error details:\")\n",
        "    import traceback\n",
        "    traceback.print_exc()"
      ],
      "metadata": {
        "colab": {
          "base_uri": "https://localhost:8080/"
        },
        "id": "1eAj8JGYNPL3",
        "outputId": "cc229e0e-7496-4d91-c521-3f4bbc1e0639"
      },
      "execution_count": null,
      "outputs": [
        {
          "output_type": "stream",
          "name": "stdout",
          "text": [
            "Epoch 1/50\n",
            "     99/Unknown \u001b[1m13s\u001b[0m 97ms/step - accuracy: 0.6686 - loss: 0.6504"
          ]
        },
        {
          "output_type": "stream",
          "name": "stderr",
          "text": [
            "/usr/lib/python3.10/contextlib.py:153: UserWarning: Your input ran out of data; interrupting training. Make sure that your dataset or generator can generate at least `steps_per_epoch * epochs` batches. You may need to use the `.repeat()` function when building your dataset.\n",
            "  self.gen.throw(typ, value, traceback)\n"
          ]
        },
        {
          "output_type": "stream",
          "name": "stdout",
          "text": [
            "\b\b\b\b\b\b\b\b\b\b\b\b\b\b\b\b\b\b\b\b\b\b\b\b\b\b\b\b\b\b\b\b\b\b\b\b\b\b\b\b\b\b\b\b\b\b\b\b\b\b\b\b\b\b\b\b\b\b\b\b\b\b\b\r\u001b[1m100/100\u001b[0m \u001b[32m━━━━━━━━━━━━━━━━━━━━\u001b[0m\u001b[37m\u001b[0m \u001b[1m15s\u001b[0m 107ms/step - accuracy: 0.6714 - loss: 0.6456 - val_accuracy: 0.9328 - val_loss: 0.1806 - learning_rate: 0.0010\n",
            "Epoch 2/50\n",
            "\u001b[1m100/100\u001b[0m \u001b[32m━━━━━━━━━━━━━━━━━━━━\u001b[0m\u001b[37m\u001b[0m \u001b[1m20s\u001b[0m 101ms/step - accuracy: 0.9526 - loss: 0.1250 - val_accuracy: 0.9203 - val_loss: 0.1833 - learning_rate: 0.0010\n",
            "Epoch 3/50\n",
            "\u001b[1m100/100\u001b[0m \u001b[32m━━━━━━━━━━━━━━━━━━━━\u001b[0m\u001b[37m\u001b[0m \u001b[1m18s\u001b[0m 78ms/step - accuracy: 0.9574 - loss: 0.1033 - val_accuracy: 0.9589 - val_loss: 0.1070 - learning_rate: 0.0010\n",
            "Epoch 4/50\n",
            "\u001b[1m100/100\u001b[0m \u001b[32m━━━━━━━━━━━━━━━━━━━━\u001b[0m\u001b[37m\u001b[0m \u001b[1m12s\u001b[0m 94ms/step - accuracy: 0.9730 - loss: 0.0715 - val_accuracy: 0.9738 - val_loss: 0.0746 - learning_rate: 0.0010\n",
            "Epoch 5/50\n",
            "\u001b[1m100/100\u001b[0m \u001b[32m━━━━━━━━━━━━━━━━━━━━\u001b[0m\u001b[37m\u001b[0m \u001b[1m10s\u001b[0m 97ms/step - accuracy: 0.9760 - loss: 0.0611 - val_accuracy: 0.9601 - val_loss: 0.1048 - learning_rate: 0.0010\n",
            "Epoch 6/50\n",
            "\u001b[1m100/100\u001b[0m \u001b[32m━━━━━━━━━━━━━━━━━━━━\u001b[0m\u001b[37m\u001b[0m \u001b[1m9s\u001b[0m 94ms/step - accuracy: 0.9816 - loss: 0.0492 - val_accuracy: 0.9788 - val_loss: 0.0657 - learning_rate: 0.0010\n",
            "Epoch 7/50\n",
            "\u001b[1m100/100\u001b[0m \u001b[32m━━━━━━━━━━━━━━━━━━━━\u001b[0m\u001b[37m\u001b[0m \u001b[1m11s\u001b[0m 102ms/step - accuracy: 0.9841 - loss: 0.0363 - val_accuracy: 0.9726 - val_loss: 0.0672 - learning_rate: 0.0010\n",
            "Epoch 8/50\n",
            "\u001b[1m100/100\u001b[0m \u001b[32m━━━━━━━━━━━━━━━━━━━━\u001b[0m\u001b[37m\u001b[0m \u001b[1m12s\u001b[0m 118ms/step - accuracy: 0.9864 - loss: 0.0357 - val_accuracy: 0.9751 - val_loss: 0.0642 - learning_rate: 0.0010\n",
            "Epoch 9/50\n",
            "\u001b[1m100/100\u001b[0m \u001b[32m━━━━━━━━━━━━━━━━━━━━\u001b[0m\u001b[37m\u001b[0m \u001b[1m23s\u001b[0m 144ms/step - accuracy: 0.9896 - loss: 0.0261 - val_accuracy: 0.9801 - val_loss: 0.0656 - learning_rate: 0.0010\n",
            "Epoch 10/50\n",
            "\u001b[1m100/100\u001b[0m \u001b[32m━━━━━━━━━━━━━━━━━━━━\u001b[0m\u001b[37m\u001b[0m \u001b[1m23s\u001b[0m 170ms/step - accuracy: 0.9916 - loss: 0.0205 - val_accuracy: 0.9801 - val_loss: 0.0688 - learning_rate: 0.0010\n",
            "Epoch 11/50\n",
            "\u001b[1m100/100\u001b[0m \u001b[32m━━━━━━━━━━━━━━━━━━━━\u001b[0m\u001b[37m\u001b[0m \u001b[1m13s\u001b[0m 97ms/step - accuracy: 0.9900 - loss: 0.0230 - val_accuracy: 0.9738 - val_loss: 0.0955 - learning_rate: 0.0010\n",
            "Epoch 12/50\n",
            "\u001b[1m100/100\u001b[0m \u001b[32m━━━━━━━━━━━━━━━━━━━━\u001b[0m\u001b[37m\u001b[0m \u001b[1m8s\u001b[0m 81ms/step - accuracy: 0.9962 - loss: 0.0142 - val_accuracy: 0.9801 - val_loss: 0.0706 - learning_rate: 5.0000e-04\n",
            "Epoch 13/50\n",
            "\u001b[1m100/100\u001b[0m \u001b[32m━━━━━━━━━━━━━━━━━━━━\u001b[0m\u001b[37m\u001b[0m \u001b[1m12s\u001b[0m 102ms/step - accuracy: 0.9967 - loss: 0.0107 - val_accuracy: 0.9788 - val_loss: 0.0751 - learning_rate: 5.0000e-04\n"
          ]
        }
      ]
    },
    {
      "cell_type": "code",
      "source": [
        "# Convert the model to TensorFlow Lite format\n",
        "converter = tf.lite.TFLiteConverter.from_keras_model(model)\n",
        "tflite_model = converter.convert()\n",
        "\n",
        "# Save the TensorFlow Lite model\n",
        "with open('/content/drive/MyDrive/TinyML_models/keyword_spotting_model.tflite', 'wb') as f:\n",
        "    f.write(tflite_model)"
      ],
      "metadata": {
        "colab": {
          "base_uri": "https://localhost:8080/"
        },
        "id": "9SR5r6kV9FGA",
        "outputId": "abbeb36c-715c-4182-84e8-947ad633c943"
      },
      "execution_count": null,
      "outputs": [
        {
          "output_type": "stream",
          "name": "stdout",
          "text": [
            "Saved artifact at '/tmp/tmp9wq95_nn'. The following endpoints are available:\n",
            "\n",
            "* Endpoint 'serve'\n",
            "  args_0 (POSITIONAL_ONLY): TensorSpec(shape=(None, 49, 10, 1), dtype=tf.float32, name='keras_tensor_16')\n",
            "Output Type:\n",
            "  TensorSpec(shape=(None, 2), dtype=tf.float32, name=None)\n",
            "Captures:\n",
            "  140303171196128: TensorSpec(shape=(), dtype=tf.resource, name=None)\n",
            "  140303296796928: TensorSpec(shape=(), dtype=tf.resource, name=None)\n",
            "  140303160865392: TensorSpec(shape=(), dtype=tf.resource, name=None)\n",
            "  140303160866800: TensorSpec(shape=(), dtype=tf.resource, name=None)\n",
            "  140303160941152: TensorSpec(shape=(), dtype=tf.resource, name=None)\n",
            "  140303160942736: TensorSpec(shape=(), dtype=tf.resource, name=None)\n",
            "  140303160936752: TensorSpec(shape=(), dtype=tf.resource, name=None)\n",
            "  140303160945200: TensorSpec(shape=(), dtype=tf.resource, name=None)\n"
          ]
        }
      ]
    },
    {
      "cell_type": "code",
      "source": [
        "# Knowledge distillation\n",
        "def distillation_loss(y_true, y_pred, teacher_logits, temperature=2):\n",
        "  \"\"\"\n",
        "  Calculates the distillation loss between the student's output and the teacher's soft targets.\n",
        "  Args:\n",
        "    y_true: Ground truth labels.\n",
        "    y_pred: Student model's output.\n",
        "    teacher_logits: Teacher model's logits.\n",
        "    temperature: Temperature parameter for softening the teacher's output.\n",
        "  Returns:\n",
        "    Distillation loss.\n",
        "  \"\"\"\n",
        "  soft_targets = tf.nn.softmax(teacher_logits / temperature)\n",
        "  return tf.keras.losses.categorical_crossentropy(soft_targets, y_pred)\n",
        "\n",
        "def total_loss(y_true, y_pred, teacher_logits, alpha=0.5, temperature=2):\n",
        "  \"\"\"Calculates the total loss, combining cross-entropy and distillation loss.\n",
        "\n",
        "  Args:\n",
        "    y_true: Ground truth labels.\n",
        "    y_pred: Student model's output.\n",
        "    teacher_logits: Teacher model's logits.\n",
        "    alpha: Weight for the distillation loss.\n",
        "    temperature: Temperature parameter for softening the teacher's output.\n",
        "\n",
        "  Returns:\n",
        "    Total loss.\n",
        "  \"\"\"\n",
        "  cross_entropy = CategoricalCrossentropy()(y_true, y_pred)\n",
        "  distillation = distillation_loss(y_true, y_pred, teacher_logits, temperature)\n",
        "  return cross_entropy + alpha * distillation\n",
        "\n",
        "# Assuming you have your teacher model (teacher_model) and student model (student_model) defined\n",
        "\n",
        "def train_student_model(teacher_model, student_model, train_dataset, validation_dataset, epochs, alpha=0.5, temperature=2):\n",
        "  # Compile the student model with the total loss function\n",
        "  student_model.compile(optimizer='adam', loss=lambda y_true, y_pred: total_loss(y_true, y_pred, teacher_model(train_dataset), alpha, temperature))\n",
        "\n",
        "  # Train the student model\n",
        "  history = student_model.fit(train_dataset, validation_data=validation_dataset, epochs=epochs)\n",
        "  return history\n",
        "\n",
        "# Assuming you have defined your teacher_model and student_model\n",
        "\n",
        "history = train_student_model(\n",
        "    teacher_model,\n",
        "    model,\n",
        "    train_dataset,\n",
        "    validation_dataset,\n",
        "    epochs=50,  # Adjust epochs as needed\n",
        "    alpha=0.5,  # Adjust alpha as needed\n",
        "    temperature=2  # Adjust temperature as needed\n",
        ")"
      ],
      "metadata": {
        "colab": {
          "base_uri": "https://localhost:8080/",
          "height": 391
        },
        "id": "08JdK24OKE9F",
        "outputId": "eb49276e-9d5d-4780-f3e2-6bbc1fe15877"
      },
      "execution_count": null,
      "outputs": [
        {
          "output_type": "stream",
          "name": "stdout",
          "text": [
            "Epoch 1/50\n"
          ]
        },
        {
          "output_type": "error",
          "ename": "ValueError",
          "evalue": "Only input tensors may be passed as positional arguments. The following argument value should be passed as a keyword argument: <_MapDataset element_spec=(TensorSpec(shape=(None, None, 10, 1), dtype=tf.float32, name=None), TensorSpec(shape=(None,), dtype=tf.int32, name=None))> (of type <class 'tensorflow.python.data.ops.map_op._MapDataset'>)",
          "traceback": [
            "\u001b[0;31m---------------------------------------------------------------------------\u001b[0m",
            "\u001b[0;31mValueError\u001b[0m                                Traceback (most recent call last)",
            "\u001b[0;32m<ipython-input-35-2e2a48e8e856>\u001b[0m in \u001b[0;36m<cell line: 45>\u001b[0;34m()\u001b[0m\n\u001b[1;32m     43\u001b[0m \u001b[0;31m# Assuming you have defined your teacher_model and student_model\u001b[0m\u001b[0;34m\u001b[0m\u001b[0;34m\u001b[0m\u001b[0m\n\u001b[1;32m     44\u001b[0m \u001b[0;34m\u001b[0m\u001b[0m\n\u001b[0;32m---> 45\u001b[0;31m history = train_student_model(\n\u001b[0m\u001b[1;32m     46\u001b[0m     \u001b[0mteacher_model\u001b[0m\u001b[0;34m,\u001b[0m\u001b[0;34m\u001b[0m\u001b[0;34m\u001b[0m\u001b[0m\n\u001b[1;32m     47\u001b[0m     \u001b[0mmodel\u001b[0m\u001b[0;34m,\u001b[0m\u001b[0;34m\u001b[0m\u001b[0;34m\u001b[0m\u001b[0m\n",
            "\u001b[0;32m<ipython-input-35-2e2a48e8e856>\u001b[0m in \u001b[0;36mtrain_student_model\u001b[0;34m(teacher_model, student_model, train_dataset, validation_dataset, epochs, alpha, temperature)\u001b[0m\n\u001b[1;32m     38\u001b[0m \u001b[0;34m\u001b[0m\u001b[0m\n\u001b[1;32m     39\u001b[0m   \u001b[0;31m# Train the student model\u001b[0m\u001b[0;34m\u001b[0m\u001b[0;34m\u001b[0m\u001b[0m\n\u001b[0;32m---> 40\u001b[0;31m   \u001b[0mhistory\u001b[0m \u001b[0;34m=\u001b[0m \u001b[0mstudent_model\u001b[0m\u001b[0;34m.\u001b[0m\u001b[0mfit\u001b[0m\u001b[0;34m(\u001b[0m\u001b[0mtrain_dataset\u001b[0m\u001b[0;34m,\u001b[0m \u001b[0mvalidation_data\u001b[0m\u001b[0;34m=\u001b[0m\u001b[0mvalidation_dataset\u001b[0m\u001b[0;34m,\u001b[0m \u001b[0mepochs\u001b[0m\u001b[0;34m=\u001b[0m\u001b[0mepochs\u001b[0m\u001b[0;34m)\u001b[0m\u001b[0;34m\u001b[0m\u001b[0;34m\u001b[0m\u001b[0m\n\u001b[0m\u001b[1;32m     41\u001b[0m   \u001b[0;32mreturn\u001b[0m \u001b[0mhistory\u001b[0m\u001b[0;34m\u001b[0m\u001b[0;34m\u001b[0m\u001b[0m\n\u001b[1;32m     42\u001b[0m \u001b[0;34m\u001b[0m\u001b[0m\n",
            "\u001b[0;32m/usr/local/lib/python3.10/dist-packages/keras/src/utils/traceback_utils.py\u001b[0m in \u001b[0;36merror_handler\u001b[0;34m(*args, **kwargs)\u001b[0m\n\u001b[1;32m    120\u001b[0m             \u001b[0;31m# To get the full stack trace, call:\u001b[0m\u001b[0;34m\u001b[0m\u001b[0;34m\u001b[0m\u001b[0m\n\u001b[1;32m    121\u001b[0m             \u001b[0;31m# `keras.config.disable_traceback_filtering()`\u001b[0m\u001b[0;34m\u001b[0m\u001b[0;34m\u001b[0m\u001b[0m\n\u001b[0;32m--> 122\u001b[0;31m             \u001b[0;32mraise\u001b[0m \u001b[0me\u001b[0m\u001b[0;34m.\u001b[0m\u001b[0mwith_traceback\u001b[0m\u001b[0;34m(\u001b[0m\u001b[0mfiltered_tb\u001b[0m\u001b[0;34m)\u001b[0m \u001b[0;32mfrom\u001b[0m \u001b[0;32mNone\u001b[0m\u001b[0;34m\u001b[0m\u001b[0;34m\u001b[0m\u001b[0m\n\u001b[0m\u001b[1;32m    123\u001b[0m         \u001b[0;32mfinally\u001b[0m\u001b[0;34m:\u001b[0m\u001b[0;34m\u001b[0m\u001b[0;34m\u001b[0m\u001b[0m\n\u001b[1;32m    124\u001b[0m             \u001b[0;32mdel\u001b[0m \u001b[0mfiltered_tb\u001b[0m\u001b[0;34m\u001b[0m\u001b[0;34m\u001b[0m\u001b[0m\n",
            "\u001b[0;32m<ipython-input-35-2e2a48e8e856>\u001b[0m in \u001b[0;36m<lambda>\u001b[0;34m(y_true, y_pred)\u001b[0m\n\u001b[1;32m     35\u001b[0m \u001b[0;32mdef\u001b[0m \u001b[0mtrain_student_model\u001b[0m\u001b[0;34m(\u001b[0m\u001b[0mteacher_model\u001b[0m\u001b[0;34m,\u001b[0m \u001b[0mstudent_model\u001b[0m\u001b[0;34m,\u001b[0m \u001b[0mtrain_dataset\u001b[0m\u001b[0;34m,\u001b[0m \u001b[0mvalidation_dataset\u001b[0m\u001b[0;34m,\u001b[0m \u001b[0mepochs\u001b[0m\u001b[0;34m,\u001b[0m \u001b[0malpha\u001b[0m\u001b[0;34m=\u001b[0m\u001b[0;36m0.5\u001b[0m\u001b[0;34m,\u001b[0m \u001b[0mtemperature\u001b[0m\u001b[0;34m=\u001b[0m\u001b[0;36m2\u001b[0m\u001b[0;34m)\u001b[0m\u001b[0;34m:\u001b[0m\u001b[0;34m\u001b[0m\u001b[0;34m\u001b[0m\u001b[0m\n\u001b[1;32m     36\u001b[0m   \u001b[0;31m# Compile the student model with the total loss function\u001b[0m\u001b[0;34m\u001b[0m\u001b[0;34m\u001b[0m\u001b[0m\n\u001b[0;32m---> 37\u001b[0;31m   \u001b[0mstudent_model\u001b[0m\u001b[0;34m.\u001b[0m\u001b[0mcompile\u001b[0m\u001b[0;34m(\u001b[0m\u001b[0moptimizer\u001b[0m\u001b[0;34m=\u001b[0m\u001b[0;34m'adam'\u001b[0m\u001b[0;34m,\u001b[0m \u001b[0mloss\u001b[0m\u001b[0;34m=\u001b[0m\u001b[0;32mlambda\u001b[0m \u001b[0my_true\u001b[0m\u001b[0;34m,\u001b[0m \u001b[0my_pred\u001b[0m\u001b[0;34m:\u001b[0m \u001b[0mtotal_loss\u001b[0m\u001b[0;34m(\u001b[0m\u001b[0my_true\u001b[0m\u001b[0;34m,\u001b[0m \u001b[0my_pred\u001b[0m\u001b[0;34m,\u001b[0m \u001b[0mteacher_model\u001b[0m\u001b[0;34m(\u001b[0m\u001b[0mtrain_dataset\u001b[0m\u001b[0;34m)\u001b[0m\u001b[0;34m,\u001b[0m \u001b[0malpha\u001b[0m\u001b[0;34m,\u001b[0m \u001b[0mtemperature\u001b[0m\u001b[0;34m)\u001b[0m\u001b[0;34m)\u001b[0m\u001b[0;34m\u001b[0m\u001b[0;34m\u001b[0m\u001b[0m\n\u001b[0m\u001b[1;32m     38\u001b[0m \u001b[0;34m\u001b[0m\u001b[0m\n\u001b[1;32m     39\u001b[0m   \u001b[0;31m# Train the student model\u001b[0m\u001b[0;34m\u001b[0m\u001b[0;34m\u001b[0m\u001b[0m\n",
            "\u001b[0;31mValueError\u001b[0m: Only input tensors may be passed as positional arguments. The following argument value should be passed as a keyword argument: <_MapDataset element_spec=(TensorSpec(shape=(None, None, 10, 1), dtype=tf.float32, name=None), TensorSpec(shape=(None,), dtype=tf.int32, name=None))> (of type <class 'tensorflow.python.data.ops.map_op._MapDataset'>)"
          ]
        }
      ]
    },
    {
      "cell_type": "code",
      "source": [
        "test_loss, test_acc = model.evaluate(test_dataset)\n",
        "print(f'Test accuracy: {test_acc:.3f}')\n",
        "\n",
        "test_loss, test_acc = teacher_model.evaluate(test_dataset)\n",
        "print(f'Test accuracy: {test_acc:.3f}')"
      ],
      "metadata": {
        "colab": {
          "base_uri": "https://localhost:8080/"
        },
        "id": "rYd-1-KI6zvs",
        "outputId": "774ca8f1-7270-443e-d523-22e2fa01b457"
      },
      "execution_count": null,
      "outputs": [
        {
          "output_type": "stream",
          "name": "stdout",
          "text": [
            "\u001b[1m13/13\u001b[0m \u001b[32m━━━━━━━━━━━━━━━━━━━━\u001b[0m\u001b[37m\u001b[0m \u001b[1m0s\u001b[0m 23ms/step - accuracy: 0.9646 - loss: 0.0945\n",
            "Test accuracy: 0.962\n"
          ]
        }
      ]
    },
    {
      "cell_type": "code",
      "source": [
        "import matplotlib.pyplot as plt\n",
        "\n",
        "plt.figure(figsize=(12, 4))\n",
        "\n",
        "plt.subplot(1, 2, 1)\n",
        "plt.plot(history.history['accuracy'], label='Training Accuracy')\n",
        "plt.plot(history.history['val_accuracy'], label='Validation Accuracy')\n",
        "plt.title('Model Accuracy')\n",
        "plt.xlabel('Epoch')\n",
        "plt.ylabel('Accuracy')\n",
        "plt.legend()\n",
        "\n",
        "plt.subplot(1, 2, 2)\n",
        "plt.plot(history.history['loss'], label='Training Loss')\n",
        "plt.plot(history.history['val_loss'], label='Validation Loss')\n",
        "plt.title('Model Loss')\n",
        "plt.xlabel('Epoch')\n",
        "plt.ylabel('Loss')\n",
        "plt.legend()\n",
        "\n",
        "plt.tight_layout()\n",
        "plt.show()"
      ],
      "metadata": {
        "colab": {
          "base_uri": "https://localhost:8080/",
          "height": 407
        },
        "id": "vfzi_op566Xg",
        "outputId": "dc93100d-479b-4bc1-ad72-71d4d3bf7555"
      },
      "execution_count": null,
      "outputs": [
        {
          "output_type": "display_data",
          "data": {
            "text/plain": [
              "<Figure size 1200x400 with 2 Axes>"
            ],
            "image/png": "[encoded data removed]"
          },
          "metadata": {}
        }
      ]
    },
    {
      "cell_type": "code",
      "source": [
        "# Quantise the model\n",
        "converter = tf.lite.TFLiteConverter.from_keras_model(model)\n",
        "converter.optimizations = [tf.lite.Optimize.DEFAULT]\n",
        "quantized_tflite_model = converter.convert()\n",
        "\n",
        "# Save the quantized TensorFlow Lite model\n",
        "with open('/content/drive/MyDrive/TinyML_models/keyword_spotting_quantized_model.tflite', 'wb') as f:\n",
        "    f.write(quantized_tflite_model)"
      ],
      "metadata": {
        "colab": {
          "base_uri": "https://localhost:8080/"
        },
        "id": "tCNmzTPMEzNN",
        "outputId": "691b5d77-291c-4849-bfe4-10c370f3feae"
      },
      "execution_count": null,
      "outputs": [
        {
          "output_type": "stream",
          "name": "stdout",
          "text": [
            "Saved artifact at '/tmp/tmp1jnjde08'. The following endpoints are available:\n",
            "\n",
            "* Endpoint 'serve'\n",
            "  args_0 (POSITIONAL_ONLY): TensorSpec(shape=(None, 49, 10, 1), dtype=tf.float32, name='keras_tensor_16')\n",
            "Output Type:\n",
            "  TensorSpec(shape=(None, 2), dtype=tf.float32, name=None)\n",
            "Captures:\n",
            "  140303171196128: TensorSpec(shape=(), dtype=tf.resource, name=None)\n",
            "  140303296796928: TensorSpec(shape=(), dtype=tf.resource, name=None)\n",
            "  140303160865392: TensorSpec(shape=(), dtype=tf.resource, name=None)\n",
            "  140303160866800: TensorSpec(shape=(), dtype=tf.resource, name=None)\n",
            "  140303160941152: TensorSpec(shape=(), dtype=tf.resource, name=None)\n",
            "  140303160942736: TensorSpec(shape=(), dtype=tf.resource, name=None)\n",
            "  140303160936752: TensorSpec(shape=(), dtype=tf.resource, name=None)\n",
            "  140303160945200: TensorSpec(shape=(), dtype=tf.resource, name=None)\n"
          ]
        }
      ]
    },
    {
      "cell_type": "code",
      "source": [
        "# Compare the models\n",
        "# Get the size of the original model\n",
        "original_model_size = os.path.getsize('/content/drive/MyDrive/TinyML_models/keyword_spotting_model.tflite')\n",
        "print(f\"Original TFLite Model Size: {original_model_size / 1024:.2f} KB\")\n",
        "\n",
        "# Get the size of the quantized model\n",
        "quantized_model_size = os.path.getsize('/content/drive/MyDrive/TinyML_models/keyword_spotting_quantized_model.tflite')\n",
        "print(f\"Quantized TFLite Model Size: {quantized_model_size / 1024:.2f} KB\")"
      ],
      "metadata": {
        "colab": {
          "base_uri": "https://localhost:8080/"
        },
        "id": "F5M7Ir5N9pW0",
        "outputId": "1cefbefe-4878-47da-b54f-896b2b497647"
      },
      "execution_count": null,
      "outputs": [
        {
          "output_type": "stream",
          "name": "stdout",
          "text": [
            "Original TFLite Model Size: 10.43 KB\n",
            "Quantized TFLite Model Size: 7.13 KB\n"
          ]
        }
      ]
    },
    {
      "cell_type": "code",
      "source": [
        "# Load the entire model\n",
        "loaded_model = tf.keras.models.load_model('/content/drive/MyDrive/TinyML_models/keyword_spotting_model')\n",
        "\n",
        "# Or, if you saved only weights\n",
        "model.load_weights('/content/drive/MyDrive/TinyML_models/keyword_spotting_weights.h5')"
      ],
      "metadata": {
        "id": "Zpp_3BHU9y8Y"
      },
      "execution_count": null,
      "outputs": []
    }
  ],
  "metadata": {
    "colab": {
      "provenance": [],
      "include_colab_link": true
    },
    "kernelspec": {
      "display_name": "Python 3",
      "name": "python3"
    },
    "language_info": {
      "name": "python"
    }
  },
  "nbformat": 4,
  "nbformat_minor": 0
}